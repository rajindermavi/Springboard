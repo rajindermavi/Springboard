{
 "cells": [
  {
   "cell_type": "markdown",
   "metadata": {},
   "source": [
    "This exercise will require you to pull some data from the Qunadl API. Qaundl is currently the most widely used aggregator of financial market data."
   ]
  },
  {
   "cell_type": "markdown",
   "metadata": {},
   "source": [
    "As a first step, you will need to register a free account on the http://www.quandl.com website."
   ]
  },
  {
   "cell_type": "markdown",
   "metadata": {},
   "source": [
    "After you register, you will be provided with a unique API key, that you should store:"
   ]
  },
  {
   "cell_type": "code",
   "execution_count": 1,
   "metadata": {},
   "outputs": [],
   "source": [
    "# Store the API key as a string - according to PEP8, constants are always named in all upper case\n",
    "API_KEY = 'zvScT8-hjz67h2S7yM_c'"
   ]
  },
  {
   "cell_type": "markdown",
   "metadata": {},
   "source": [
    "Qaundl has a large number of data sources, but, unfortunately, most of them require a Premium subscription. Still, there are also a good number of free datasets."
   ]
  },
  {
   "cell_type": "markdown",
   "metadata": {},
   "source": [
    "For this mini project, we will focus on equities data from the Frankfurt Stock Exhange (FSE), which is available for free. \n",
    "We'll try and analyze the stock prices of a company called Carl Zeiss Meditec, which manufactures tools for eye examinations, \n",
    "as well as medical lasers for laser eye surgery: https://www.zeiss.com/meditec/int/home.html. The company is listed under the stock ticker AFX_X."
   ]
  },
  {
   "cell_type": "markdown",
   "metadata": {},
   "source": [
    "You can find the detailed Quandl API instructions here: https://docs.quandl.com/docs/time-series"
   ]
  },
  {
   "cell_type": "markdown",
   "metadata": {},
   "source": [
    "While there is a dedicated Python package for connecting to the Quandl API, we would prefer that you use the *requests* package, which can be easily downloaded using *pip* or *conda*. You can find the documentation for the package here: http://docs.python-requests.org/en/master/ "
   ]
  },
  {
   "cell_type": "markdown",
   "metadata": {},
   "source": [
    "Finally, apart from the *requests* package, you are encouraged to not use any third party Python packages, such as *pandas*, and instead focus on what's available in the Python Standard Library (the *collections* module might come in handy: https://pymotw.com/3/collections/).\n",
    "Also, since you won't have access to DataFrames, you are encouraged to us Python's native data structures - preferably dictionaries, though some questions can also be answered using lists.\n",
    "You can read more on these data structures here: https://docs.python.org/3/tutorial/datastructures.html"
   ]
  },
  {
   "cell_type": "markdown",
   "metadata": {},
   "source": [
    "Keep in mind that the JSON responses you will be getting from the API map almost one-to-one to Python's dictionaries. Unfortunately, they can be very nested, so make sure you read up on indexing dictionaries in the documentation provided above."
   ]
  },
  {
   "cell_type": "code",
   "execution_count": 2,
   "metadata": {},
   "outputs": [],
   "source": [
    "# First, import the relevant modules\n",
    "import requests, collections, json\n"
   ]
  },
  {
   "cell_type": "code",
   "execution_count": 3,
   "metadata": {},
   "outputs": [],
   "source": [
    "# Now, call the Quandl API and pull out a small sample of the data (only one day) to get a glimpse\n",
    "# into the JSON structure that will be returned\n",
    "Start_Date = '2020-01-06'\n",
    "End_Date = '2020-01-07'\n",
    "Database_Code = 'FSE'\n",
    "Dataset_Code = 'AFX_X'\n",
    "url = f'https://www.quandl.com/api/v3/datasets/{Database_Code}/{Dataset_Code}/data.json?start_date={Start_Date}&end_date={End_Date}&api_key={API_KEY}'\n",
    "\n",
    "r = requests.get(url)"
   ]
  },
  {
   "cell_type": "code",
   "execution_count": 4,
   "metadata": {},
   "outputs": [
    {
     "data": {
      "text/plain": [
       "{'dataset_data': {'limit': None,\n",
       "  'transform': None,\n",
       "  'column_index': None,\n",
       "  'column_names': ['Date',\n",
       "   'Open',\n",
       "   'High',\n",
       "   'Low',\n",
       "   'Close',\n",
       "   'Change',\n",
       "   'Traded Volume',\n",
       "   'Turnover',\n",
       "   'Last Price of the Day',\n",
       "   'Daily Traded Units',\n",
       "   'Daily Turnover'],\n",
       "  'start_date': '2020-01-06',\n",
       "  'end_date': '2020-01-07',\n",
       "  'frequency': 'daily',\n",
       "  'data': [['2020-01-07',\n",
       "    114.4,\n",
       "    116.9,\n",
       "    114.3,\n",
       "    114.9,\n",
       "    None,\n",
       "    98974.0,\n",
       "    11431904.0,\n",
       "    None,\n",
       "    None,\n",
       "    None],\n",
       "   ['2020-01-06',\n",
       "    112.0,\n",
       "    114.3,\n",
       "    111.7,\n",
       "    114.0,\n",
       "    None,\n",
       "    95697.0,\n",
       "    10844169.0,\n",
       "    None,\n",
       "    None,\n",
       "    None]],\n",
       "  'collapse': None,\n",
       "  'order': None}}"
      ]
     },
     "execution_count": 4,
     "metadata": {},
     "output_type": "execute_result"
    }
   ],
   "source": [
    "# Inspect the JSON structure of the object you created, and take note of how nested it is,\n",
    "# as well as the overall structure\n",
    "r_json = r.json()\n",
    "r_json"
   ]
  },
  {
   "cell_type": "code",
   "execution_count": 5,
   "metadata": {},
   "outputs": [
    {
     "data": {
      "text/plain": [
       "[['2020-01-07',\n",
       "  114.4,\n",
       "  116.9,\n",
       "  114.3,\n",
       "  114.9,\n",
       "  None,\n",
       "  98974.0,\n",
       "  11431904.0,\n",
       "  None,\n",
       "  None,\n",
       "  None],\n",
       " ['2020-01-06',\n",
       "  112.0,\n",
       "  114.3,\n",
       "  111.7,\n",
       "  114.0,\n",
       "  None,\n",
       "  95697.0,\n",
       "  10844169.0,\n",
       "  None,\n",
       "  None,\n",
       "  None]]"
      ]
     },
     "execution_count": 5,
     "metadata": {},
     "output_type": "execute_result"
    }
   ],
   "source": [
    "# Finding the data in the dictionary\n",
    "r_json['dataset_data']['data']"
   ]
  },
  {
   "cell_type": "code",
   "execution_count": 6,
   "metadata": {},
   "outputs": [
    {
     "name": "stdout",
     "output_type": "stream",
     "text": [
      "['Date', 'Open', 'High', 'Low', 'Close', 'Change', 'Traded Volume', 'Turnover', 'Last Price of the Day', 'Daily Traded Units', 'Daily Turnover']\n"
     ]
    }
   ],
   "source": [
    "# State the feature names of each entry\n",
    "features = r_json['dataset_data']['column_names']\n",
    "print(features)"
   ]
  },
  {
   "cell_type": "markdown",
   "metadata": {},
   "source": [
    "These are your tasks for this mini project:\n",
    "\n",
    "1. Collect data from the Franfurt Stock Exchange, for the ticker AFX_X, for the whole year 2017 (keep in mind that the date format is YYYY-MM-DD).\n",
    "2. Convert the returned JSON object into a Python dictionary.\n",
    "3. Calculate what the highest and lowest opening prices were for the stock in this period.\n",
    "4. What was the largest change in any one day (based on High and Low price)?\n",
    "5. What was the largest change between any two days (based on Closing Price)?\n",
    "6. What was the average daily trading volume during this year?\n",
    "7. (Optional) What was the median trading volume during this year. (Note: you may need to implement your own function for calculating the median.)"
   ]
  },
  {
   "cell_type": "code",
   "execution_count": 7,
   "metadata": {},
   "outputs": [
    {
     "data": {
      "text/plain": [
       "dict"
      ]
     },
     "execution_count": 7,
     "metadata": {},
     "output_type": "execute_result"
    }
   ],
   "source": [
    "#1. Collect data for year 2017 and 2. convert to dictionary\n",
    "Start_Date = '2017-01-01'\n",
    "End_Date = '2017-12-31' \n",
    "url = f'https://www.quandl.com/api/v3/datasets/{Database_Code}/{Dataset_Code}/data.json?start_date={Start_Date}&end_date={End_Date}&api_key={API_KEY}'\n",
    "\n",
    "r = requests.get(url)\n",
    "r_json = r.json()\n",
    "type(r_json)"
   ]
  },
  {
   "cell_type": "code",
   "execution_count": 8,
   "metadata": {},
   "outputs": [
    {
     "name": "stdout",
     "output_type": "stream",
     "text": [
      "{<class 'NoneType'>, <class 'float'>}\n"
     ]
    }
   ],
   "source": [
    "#3. Calculate the highest and the lowest opening prices.\n",
    "Open = features.index('Open')\n",
    "opening_prices = [L[Open] for L in r_json['dataset_data']['data']]\n",
    "# Check the data types of the list\n",
    "prices_types = set(map(type,opening_prices))\n",
    "print(prices_types)"
   ]
  },
  {
   "cell_type": "code",
   "execution_count": 9,
   "metadata": {},
   "outputs": [
    {
     "name": "stdout",
     "output_type": "stream",
     "text": [
      "{<class 'float'>}\n"
     ]
    }
   ],
   "source": [
    "# Some of the values are NoneType, so we will drop those.\n",
    "opening_prices_num = [x for x in opening_prices if not x is None]\n",
    "# Check the data types of the list\n",
    "prices_types = set(map(type,opening_prices_num))\n",
    "print(prices_types)"
   ]
  },
  {
   "cell_type": "code",
   "execution_count": 10,
   "metadata": {},
   "outputs": [
    {
     "name": "stdout",
     "output_type": "stream",
     "text": [
      "The highest opening price in 2017 is 53.11.\n",
      "The lowest opening price in 2017 is 34.00.\n"
     ]
    }
   ],
   "source": [
    "# Find the highest and lowest price\n",
    "highest_opening_price = max(opening_prices_num)\n",
    "lowest_opening_price = min(opening_prices_num)\n",
    "print(f'The highest opening price in 2017 is {highest_opening_price:.2f}.')\n",
    "print(f'The lowest opening price in 2017 is {lowest_opening_price:.2f}.')"
   ]
  },
  {
   "cell_type": "code",
   "execution_count": 11,
   "metadata": {},
   "outputs": [
    {
     "name": "stdout",
     "output_type": "stream",
     "text": [
      "{<class 'float'>}\n"
     ]
    }
   ],
   "source": [
    "#4. Calculate the daily price variation (Max price - Min price)\n",
    "High = features.index('High')\n",
    "Low = features.index('Low')\n",
    "daily_price_variation = [L[High] - L[Low] for L in r_json['dataset_data']['data']]\n",
    "# Check the data types of the list\n",
    "price_variation_types = set(map(type,daily_price_variation))\n",
    "print(price_variation_types)"
   ]
  },
  {
   "cell_type": "code",
   "execution_count": 12,
   "metadata": {},
   "outputs": [
    {
     "name": "stdout",
     "output_type": "stream",
     "text": [
      "The highest daily price variation in 2017 is 2.81.\n"
     ]
    }
   ],
   "source": [
    "# Find the highest daily price variation\n",
    "highest_daily_price_variation = max(daily_price_variation)\n",
    "print(f'The highest daily price variation in 2017 is {highest_daily_price_variation:.2f}.')"
   ]
  },
  {
   "cell_type": "code",
   "execution_count": 13,
   "metadata": {},
   "outputs": [
    {
     "name": "stdout",
     "output_type": "stream",
     "text": [
      "{<class 'float'>}\n"
     ]
    }
   ],
   "source": [
    "#5. What was the largest change between any two (consecutive) days? (using Closing Price)\n",
    "Close = features.index('Close')\n",
    "closing_prices = [L[Close] for L in r_json['dataset_data']['data']]\n",
    "# Check the data types of the list\n",
    "prices_types = set(map(type,closing_prices))\n",
    "print(prices_types)"
   ]
  },
  {
   "cell_type": "code",
   "execution_count": 14,
   "metadata": {},
   "outputs": [
    {
     "name": "stdout",
     "output_type": "stream",
     "text": [
      "The maximum difference between daily closing prices is 2.56.\n"
     ]
    }
   ],
   "source": [
    "# Find consecutive days closing difference\n",
    "closing_price_diff = [ closing_prices[idx + 1] - closing_prices[idx] for idx in range(len(closing_prices) - 1)]\n",
    "# Find the absolute values of the price differences\n",
    "abs_price_diff = list(map(abs,closing_price_diff))\n",
    "# Find the index of the maximum value of the price diff\n",
    "max_price_diff_idx = max(zip(abs_price_diff, range(len(abs_price_diff))))[1]\n",
    "# Print the maximum value\n",
    "print(f'The maximum difference between daily closing prices is {closing_price_diff[max_price_diff_idx]:.2f}.')"
   ]
  },
  {
   "cell_type": "code",
   "execution_count": 15,
   "metadata": {},
   "outputs": [
    {
     "name": "stdout",
     "output_type": "stream",
     "text": [
      "{<class 'float'>}\n"
     ]
    }
   ],
   "source": [
    "#6. What was the average daily trading volume during this year?\n",
    "Traded_vol = features.index('Traded Volume')\n",
    "daily_vol = [L[Traded_vol] for L in r_json['dataset_data']['data']]\n",
    "# Check the data types of the list\n",
    "prices_types = set(map(type,closing_prices))\n",
    "print(prices_types)"
   ]
  },
  {
   "cell_type": "code",
   "execution_count": 16,
   "metadata": {},
   "outputs": [
    {
     "name": "stdout",
     "output_type": "stream",
     "text": [
      "The average daily trading volume is 89124.34.\n"
     ]
    }
   ],
   "source": [
    "average_daily_vol = sum(daily_vol)/len(daily_vol)\n",
    "print(f'The average daily trading volume is {average_daily_vol:.2f}.')"
   ]
  },
  {
   "cell_type": "code",
   "execution_count": 17,
   "metadata": {},
   "outputs": [
    {
     "name": "stdout",
     "output_type": "stream",
     "text": [
      "The median daily trading volume is 76600.00.\n"
     ]
    }
   ],
   "source": [
    "#7. What was the median trading volume during this year.\n",
    "\n",
    "# Define function to find the median\n",
    "def find_median(lst):\n",
    "    lst_sorted = sorted(lst)\n",
    "    lst_len = len(lst)\n",
    "    if lst_len%2 == 0:\n",
    "        idx_m1 = lst_len/2; idx_m2 = lst_len/2 + 1;\n",
    "        return (lst_sorted[idx_m1] + lst_sorted[idx_m2])/2\n",
    "    else:\n",
    "        return lst_sorted[int(lst_len/2 + 1)]\n",
    "\n",
    "median_daily_vol = find_median(daily_vol)    \n",
    "    \n",
    "print(f'The median daily trading volume is {median_daily_vol:.2f}.')"
   ]
  },
  {
   "cell_type": "code",
   "execution_count": null,
   "metadata": {},
   "outputs": [],
   "source": []
  }
 ],
 "metadata": {
  "kernelspec": {
   "display_name": "Python 3",
   "language": "python",
   "name": "python3"
  },
  "language_info": {
   "codemirror_mode": {
    "name": "ipython",
    "version": 3
   },
   "file_extension": ".py",
   "mimetype": "text/x-python",
   "name": "python",
   "nbconvert_exporter": "python",
   "pygments_lexer": "ipython3",
   "version": "3.7.9"
  }
 },
 "nbformat": 4,
 "nbformat_minor": 4
}
