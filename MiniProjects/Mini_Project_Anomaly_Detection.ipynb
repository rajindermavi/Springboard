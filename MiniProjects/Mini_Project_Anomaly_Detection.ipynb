{
  "nbformat": 4,
  "nbformat_minor": 0,
  "metadata": {
    "kernelspec": {
      "display_name": "Python 3",
      "language": "python",
      "name": "python3"
    },
    "language_info": {
      "codemirror_mode": {
        "name": "ipython",
        "version": 3
      },
      "file_extension": ".py",
      "mimetype": "text/x-python",
      "name": "python",
      "nbconvert_exporter": "python",
      "pygments_lexer": "ipython3",
      "version": "3.7.6"
    },
    "colab": {
      "name": "Mini_Project_Anomaly_Detection.ipynb",
      "provenance": [],
      "include_colab_link": true
    }
  },
  "cells": [
    {
      "cell_type": "markdown",
      "metadata": {
        "id": "view-in-github",
        "colab_type": "text"
      },
      "source": [
        "<a href=\"https://colab.research.google.com/github/rajindermavi/Springboard/blob/main/Mini_Project_Anomaly_Detection.ipynb\" target=\"_parent\"><img src=\"https://colab.research.google.com/assets/colab-badge.svg\" alt=\"Open In Colab\"/></a>"
      ]
    },
    {
      "cell_type": "markdown",
      "metadata": {
        "id": "jRVTfBpN-DZv"
      },
      "source": [
        "# Anomaly Detection of Retail Store Sales\n",
        "\n",
        "This hands-on mini-project will enable you to reinforce your learnings pertaining to anomaly detection in this unit. By now, you must already be aware of the key objective of anomaly detection. Just to refresh your memory, anomaly detection is the identification of outliers or rare event items in a dataset which potentially exhibit abnormal behavior or properties as compared to the rest of the datapoints.\n",
        "\n",
        "There are a wide variety of anomaly detection methods including supervised, unsupervised and semi-supervised. Typically you can perform anomaly detection on univariate data, multivariate data as well as data which is temporal in nature. In this mini-project you will leverage state-of-the-art anomaly detection models from frameworks like [__`scikit-learn`__](https://scikit-learn.org/stable/modules/outlier_detection.html) and [__`PyOD`__](https://pyod.readthedocs.io/en/latest/index.html).\n",
        "\n",
        "\n",
        "By the end of this mini-project, you will have successfully applied these techniques to find out potential outliers pertaining to sales transactional data in a retail store dataset and also learnt how to visualize outliers similar to the following plot.\n",
        "\n",
        "![](outlier_ex.png)\n",
        "\n",
        "We will be performing anomaly detection on both univariate and multivariate data and leverage the following anomaly detection techniques.\n",
        "\n",
        "- Simple Statistical Models (mean & standard deviation: the three-sigma rule)\n",
        "- Isolation Forest\n",
        "- Clustering-Based Local Outlier Factor\n",
        "- Auto-encoders"
      ]
    },
    {
      "cell_type": "markdown",
      "metadata": {
        "id": "s19uSNun-DZ4"
      },
      "source": [
        "# 1. Getting and Loading the Dataset\n",
        "\n",
        "The first step towards solving any data science or machine learning problem is to obtain the necessary data. In this scenario, we will be dealing with a popular retail dataset known as the [SuperStore Sales Dataset](https://community.tableau.com/docs/DOC-1236) which consists of transactional data pertaining to a retail store.\n",
        "\n",
        "#### Please download the required dataset from [here](https://community.tableau.com/docs/DOC-1236) if necessary, although it will also be provided to you along with this notebook for this mini-project\n",
        "\n",
        "Once we have the necessary data, we will load up the dataset and perform some initial exploratory data analysis"
      ]
    },
    {
      "cell_type": "markdown",
      "metadata": {
        "id": "TB5DVF4j-DZ5"
      },
      "source": [
        "# 2. Exploratory Data Analysis\n",
        "\n",
        "It's time to do some basic exploratory analysis on the retail store transactional data. We start by loading up the dataset into a pandas dataframe."
      ]
    },
    {
      "cell_type": "code",
      "metadata": {
        "colab": {
          "base_uri": "https://localhost:8080/"
        },
        "id": "-rP2aKjb-DZ6",
        "outputId": "1a0f9e2f-8073-4b8e-e698-90b64d2f282a"
      },
      "source": [
        "import pandas as pd\n",
        "import numpy as np\n",
        "import matplotlib.pyplot as plt\n",
        "import seaborn as sns\n",
        "import matplotlib\n",
        "import warnings\n",
        "warnings.filterwarnings('ignore')\n",
        "\n",
        "%matplotlib inline\n",
        "\n",
        "\n",
        "df = pd.read_excel(\"./Superstore.xls\")\n",
        "df.info()"
      ],
      "execution_count": 1,
      "outputs": [
        {
          "output_type": "stream",
          "text": [
            "<class 'pandas.core.frame.DataFrame'>\n",
            "RangeIndex: 9994 entries, 0 to 9993\n",
            "Data columns (total 21 columns):\n",
            " #   Column         Non-Null Count  Dtype         \n",
            "---  ------         --------------  -----         \n",
            " 0   Row ID         9994 non-null   int64         \n",
            " 1   Order ID       9994 non-null   object        \n",
            " 2   Order Date     9994 non-null   datetime64[ns]\n",
            " 3   Ship Date      9994 non-null   datetime64[ns]\n",
            " 4   Ship Mode      9994 non-null   object        \n",
            " 5   Customer ID    9994 non-null   object        \n",
            " 6   Customer Name  9994 non-null   object        \n",
            " 7   Segment        9994 non-null   object        \n",
            " 8   Country        9994 non-null   object        \n",
            " 9   City           9994 non-null   object        \n",
            " 10  State          9994 non-null   object        \n",
            " 11  Postal Code    9994 non-null   int64         \n",
            " 12  Region         9994 non-null   object        \n",
            " 13  Product ID     9994 non-null   object        \n",
            " 14  Category       9994 non-null   object        \n",
            " 15  Sub-Category   9994 non-null   object        \n",
            " 16  Product Name   9994 non-null   object        \n",
            " 17  Sales          9994 non-null   float64       \n",
            " 18  Quantity       9994 non-null   int64         \n",
            " 19  Discount       9994 non-null   float64       \n",
            " 20  Profit         9994 non-null   float64       \n",
            "dtypes: datetime64[ns](2), float64(3), int64(3), object(13)\n",
            "memory usage: 1.6+ MB\n"
          ],
          "name": "stdout"
        }
      ]
    },
    {
      "cell_type": "markdown",
      "metadata": {
        "id": "h6N9feCM-DZ7"
      },
      "source": [
        "We don't have any major missing values in our dataset and we can now look at a sample subset of the data"
      ]
    },
    {
      "cell_type": "code",
      "metadata": {
        "colab": {
          "base_uri": "https://localhost:8080/",
          "height": 547
        },
        "id": "Pu_C55KZ-DZ8",
        "outputId": "a4364907-bb9e-4abf-8821-710ed7e2a6af"
      },
      "source": [
        "df.head()"
      ],
      "execution_count": 2,
      "outputs": [
        {
          "output_type": "execute_result",
          "data": {
            "text/html": [
              "<div>\n",
              "<style scoped>\n",
              "    .dataframe tbody tr th:only-of-type {\n",
              "        vertical-align: middle;\n",
              "    }\n",
              "\n",
              "    .dataframe tbody tr th {\n",
              "        vertical-align: top;\n",
              "    }\n",
              "\n",
              "    .dataframe thead th {\n",
              "        text-align: right;\n",
              "    }\n",
              "</style>\n",
              "<table border=\"1\" class=\"dataframe\">\n",
              "  <thead>\n",
              "    <tr style=\"text-align: right;\">\n",
              "      <th></th>\n",
              "      <th>Row ID</th>\n",
              "      <th>Order ID</th>\n",
              "      <th>Order Date</th>\n",
              "      <th>Ship Date</th>\n",
              "      <th>Ship Mode</th>\n",
              "      <th>Customer ID</th>\n",
              "      <th>Customer Name</th>\n",
              "      <th>Segment</th>\n",
              "      <th>Country</th>\n",
              "      <th>City</th>\n",
              "      <th>State</th>\n",
              "      <th>Postal Code</th>\n",
              "      <th>Region</th>\n",
              "      <th>Product ID</th>\n",
              "      <th>Category</th>\n",
              "      <th>Sub-Category</th>\n",
              "      <th>Product Name</th>\n",
              "      <th>Sales</th>\n",
              "      <th>Quantity</th>\n",
              "      <th>Discount</th>\n",
              "      <th>Profit</th>\n",
              "    </tr>\n",
              "  </thead>\n",
              "  <tbody>\n",
              "    <tr>\n",
              "      <th>0</th>\n",
              "      <td>1</td>\n",
              "      <td>CA-2016-152156</td>\n",
              "      <td>2016-11-08</td>\n",
              "      <td>2016-11-11</td>\n",
              "      <td>Second Class</td>\n",
              "      <td>CG-12520</td>\n",
              "      <td>Claire Gute</td>\n",
              "      <td>Consumer</td>\n",
              "      <td>United States</td>\n",
              "      <td>Henderson</td>\n",
              "      <td>Kentucky</td>\n",
              "      <td>42420</td>\n",
              "      <td>South</td>\n",
              "      <td>FUR-BO-10001798</td>\n",
              "      <td>Furniture</td>\n",
              "      <td>Bookcases</td>\n",
              "      <td>Bush Somerset Collection Bookcase</td>\n",
              "      <td>261.9600</td>\n",
              "      <td>2</td>\n",
              "      <td>0.00</td>\n",
              "      <td>41.9136</td>\n",
              "    </tr>\n",
              "    <tr>\n",
              "      <th>1</th>\n",
              "      <td>2</td>\n",
              "      <td>CA-2016-152156</td>\n",
              "      <td>2016-11-08</td>\n",
              "      <td>2016-11-11</td>\n",
              "      <td>Second Class</td>\n",
              "      <td>CG-12520</td>\n",
              "      <td>Claire Gute</td>\n",
              "      <td>Consumer</td>\n",
              "      <td>United States</td>\n",
              "      <td>Henderson</td>\n",
              "      <td>Kentucky</td>\n",
              "      <td>42420</td>\n",
              "      <td>South</td>\n",
              "      <td>FUR-CH-10000454</td>\n",
              "      <td>Furniture</td>\n",
              "      <td>Chairs</td>\n",
              "      <td>Hon Deluxe Fabric Upholstered Stacking Chairs,...</td>\n",
              "      <td>731.9400</td>\n",
              "      <td>3</td>\n",
              "      <td>0.00</td>\n",
              "      <td>219.5820</td>\n",
              "    </tr>\n",
              "    <tr>\n",
              "      <th>2</th>\n",
              "      <td>3</td>\n",
              "      <td>CA-2016-138688</td>\n",
              "      <td>2016-06-12</td>\n",
              "      <td>2016-06-16</td>\n",
              "      <td>Second Class</td>\n",
              "      <td>DV-13045</td>\n",
              "      <td>Darrin Van Huff</td>\n",
              "      <td>Corporate</td>\n",
              "      <td>United States</td>\n",
              "      <td>Los Angeles</td>\n",
              "      <td>California</td>\n",
              "      <td>90036</td>\n",
              "      <td>West</td>\n",
              "      <td>OFF-LA-10000240</td>\n",
              "      <td>Office Supplies</td>\n",
              "      <td>Labels</td>\n",
              "      <td>Self-Adhesive Address Labels for Typewriters b...</td>\n",
              "      <td>14.6200</td>\n",
              "      <td>2</td>\n",
              "      <td>0.00</td>\n",
              "      <td>6.8714</td>\n",
              "    </tr>\n",
              "    <tr>\n",
              "      <th>3</th>\n",
              "      <td>4</td>\n",
              "      <td>US-2015-108966</td>\n",
              "      <td>2015-10-11</td>\n",
              "      <td>2015-10-18</td>\n",
              "      <td>Standard Class</td>\n",
              "      <td>SO-20335</td>\n",
              "      <td>Sean O'Donnell</td>\n",
              "      <td>Consumer</td>\n",
              "      <td>United States</td>\n",
              "      <td>Fort Lauderdale</td>\n",
              "      <td>Florida</td>\n",
              "      <td>33311</td>\n",
              "      <td>South</td>\n",
              "      <td>FUR-TA-10000577</td>\n",
              "      <td>Furniture</td>\n",
              "      <td>Tables</td>\n",
              "      <td>Bretford CR4500 Series Slim Rectangular Table</td>\n",
              "      <td>957.5775</td>\n",
              "      <td>5</td>\n",
              "      <td>0.45</td>\n",
              "      <td>-383.0310</td>\n",
              "    </tr>\n",
              "    <tr>\n",
              "      <th>4</th>\n",
              "      <td>5</td>\n",
              "      <td>US-2015-108966</td>\n",
              "      <td>2015-10-11</td>\n",
              "      <td>2015-10-18</td>\n",
              "      <td>Standard Class</td>\n",
              "      <td>SO-20335</td>\n",
              "      <td>Sean O'Donnell</td>\n",
              "      <td>Consumer</td>\n",
              "      <td>United States</td>\n",
              "      <td>Fort Lauderdale</td>\n",
              "      <td>Florida</td>\n",
              "      <td>33311</td>\n",
              "      <td>South</td>\n",
              "      <td>OFF-ST-10000760</td>\n",
              "      <td>Office Supplies</td>\n",
              "      <td>Storage</td>\n",
              "      <td>Eldon Fold 'N Roll Cart System</td>\n",
              "      <td>22.3680</td>\n",
              "      <td>2</td>\n",
              "      <td>0.20</td>\n",
              "      <td>2.5164</td>\n",
              "    </tr>\n",
              "  </tbody>\n",
              "</table>\n",
              "</div>"
            ],
            "text/plain": [
              "   Row ID        Order ID Order Date  ... Quantity Discount    Profit\n",
              "0       1  CA-2016-152156 2016-11-08  ...        2     0.00   41.9136\n",
              "1       2  CA-2016-152156 2016-11-08  ...        3     0.00  219.5820\n",
              "2       3  CA-2016-138688 2016-06-12  ...        2     0.00    6.8714\n",
              "3       4  US-2015-108966 2015-10-11  ...        5     0.45 -383.0310\n",
              "4       5  US-2015-108966 2015-10-11  ...        2     0.20    2.5164\n",
              "\n",
              "[5 rows x 21 columns]"
            ]
          },
          "metadata": {
            "tags": []
          },
          "execution_count": 2
        }
      ]
    },
    {
      "cell_type": "markdown",
      "metadata": {
        "id": "uOn0SHyc-DZ9"
      },
      "source": [
        "## Visualize Sales vs. Order Date \n",
        "\n",
        "Let's look more closely at the __`Sales`__ attribute of the dataset in the next few cells. We'll start by looking at typical sales over time "
      ]
    },
    {
      "cell_type": "code",
      "metadata": {
        "colab": {
          "base_uri": "https://localhost:8080/",
          "height": 392
        },
        "id": "mpRns7jx-DZ9",
        "outputId": "97f70e4a-6337-4744-ac94-84a7d4a79c71"
      },
      "source": [
        "fig, ax = plt.subplots(1, 1, figsize=(12, 6))\n",
        "sns.lineplot(x=df['Order Date'], y=df['Sales']);"
      ],
      "execution_count": 3,
      "outputs": [
        {
          "output_type": "display_data",
          "data": {
            "image/png": "[encoded data removed]",
            "text/plain": [
              "<Figure size 864x432 with 1 Axes>"
            ]
          },
          "metadata": {
            "tags": [],
            "needs_background": "light"
          }
        }
      ]
    },
    {
      "cell_type": "markdown",
      "metadata": {
        "id": "Nc0igB3E-DZ9"
      },
      "source": [
        "## Visualize Sales Distribution\n",
        "\n",
        "\n",
        "Let's now look at the data distribution for __`Sales`__"
      ]
    },
    {
      "cell_type": "code",
      "metadata": {
        "colab": {
          "base_uri": "https://localhost:8080/",
          "height": 295
        },
        "id": "hgsr0vmN-DZ-",
        "outputId": "816aaecd-ea0a-4ad1-f762-1787034e619a"
      },
      "source": [
        "sns.distplot(df['Sales'])\n",
        "plt.title(\"Sales Distribution\");"
      ],
      "execution_count": 4,
      "outputs": [
        {
          "output_type": "display_data",
          "data": {
            "image/png": "[encoded data removed]",
            "text/plain": [
              "<Figure size 432x288 with 1 Axes>"
            ]
          },
          "metadata": {
            "tags": [],
            "needs_background": "light"
          }
        }
      ]
    },
    {
      "cell_type": "code",
      "metadata": {
        "colab": {
          "base_uri": "https://localhost:8080/"
        },
        "id": "AtXRLuF5-DZ-",
        "outputId": "56459335-417d-4d80-bcd2-0d19f8efd8a8"
      },
      "source": [
        "df['Sales'].describe()"
      ],
      "execution_count": 5,
      "outputs": [
        {
          "output_type": "execute_result",
          "data": {
            "text/plain": [
              "count     9994.000000\n",
              "mean       229.858001\n",
              "std        623.245101\n",
              "min          0.444000\n",
              "25%         17.280000\n",
              "50%         54.490000\n",
              "75%        209.940000\n",
              "max      22638.480000\n",
              "Name: Sales, dtype: float64"
            ]
          },
          "metadata": {
            "tags": []
          },
          "execution_count": 5
        }
      ]
    },
    {
      "cell_type": "markdown",
      "metadata": {
        "id": "sZYD0K2M-DZ_"
      },
      "source": [
        "We can definitely see the presence of potential outliers in terms of the min or max values as compared to the meat of the distribution in the interquartile range as observed in the distribution statistics"
      ]
    },
    {
      "cell_type": "markdown",
      "metadata": {
        "id": "cSfy2vM7-DZ_"
      },
      "source": [
        "## Q 2.1: Visualize Profit vs. Order Date \n",
        "\n",
        "Let's now look closely at the __`Profit`__ attribute of the dataset in the next few cells. We'll start by looking at typical profits over time.\n",
        "\n",
        "__Your turn: Plot `Order Date` vs. `Profit` using a line plot__"
      ]
    },
    {
      "cell_type": "code",
      "metadata": {
        "colab": {
          "base_uri": "https://localhost:8080/",
          "height": 388
        },
        "id": "krS6gENy-DZ_",
        "outputId": "137ecbcd-4387-42b5-d177-720d91697c68"
      },
      "source": [
        "#<FILL BLANKS HERE>\n",
        "fig, ax = plt.subplots(1, 1, figsize=(12, 6))\n",
        "sns.lineplot(x=df['Order Date'], y=df['Profit']);"
      ],
      "execution_count": 6,
      "outputs": [
        {
          "output_type": "display_data",
          "data": {
            "image/png": "[encoded data removed]",
            "text/plain": [
              "<Figure size 864x432 with 1 Axes>"
            ]
          },
          "metadata": {
            "tags": [],
            "needs_background": "light"
          }
        }
      ]
    },
    {
      "cell_type": "markdown",
      "metadata": {
        "id": "9Mnpt4xL-DaA"
      },
      "source": [
        "## Q 2.2: Visualize Profit Distribution\n",
        "\n",
        "Let's now look at the data distribution for __`Profit`__\n",
        "\n",
        "__Your turn: Plot the distribution for `Profit`__"
      ]
    },
    {
      "cell_type": "code",
      "metadata": {
        "colab": {
          "base_uri": "https://localhost:8080/",
          "height": 295
        },
        "id": "I6e7gSsz-DaA",
        "outputId": "625922d1-9546-4a21-bfb0-55de18913854"
      },
      "source": [
        "#<FILL BLANKS HERE>\n",
        "sns.distplot(df['Profit'])\n",
        "plt.title(\"Profit Distribution\");"
      ],
      "execution_count": 7,
      "outputs": [
        {
          "output_type": "display_data",
          "data": {
            "image/png": "[encoded data removed]",
            "text/plain": [
              "<Figure size 432x288 with 1 Axes>"
            ]
          },
          "metadata": {
            "tags": [],
            "needs_background": "light"
          }
        }
      ]
    },
    {
      "cell_type": "markdown",
      "metadata": {
        "id": "40yHAs2D-DaA"
      },
      "source": [
        "__Your turn: Get the essential descriptive statistics for `Profit` using an appropriate function__"
      ]
    },
    {
      "cell_type": "code",
      "metadata": {
        "colab": {
          "base_uri": "https://localhost:8080/"
        },
        "id": "V120VqZD-DaA",
        "outputId": "dfc44e38-4919-43d7-b5b6-bc5844a99f80"
      },
      "source": [
        "#<FILL BLANKS HERE>\n",
        "df['Profit'].describe()"
      ],
      "execution_count": 8,
      "outputs": [
        {
          "output_type": "execute_result",
          "data": {
            "text/plain": [
              "count    9994.000000\n",
              "mean       28.656896\n",
              "std       234.260108\n",
              "min     -6599.978000\n",
              "25%         1.728750\n",
              "50%         8.666500\n",
              "75%        29.364000\n",
              "max      8399.976000\n",
              "Name: Profit, dtype: float64"
            ]
          },
          "metadata": {
            "tags": []
          },
          "execution_count": 8
        }
      ]
    },
    {
      "cell_type": "markdown",
      "metadata": {
        "id": "1rj3ZTBi-DaB"
      },
      "source": [
        "__Your turn: Do you notice anything interesting about the distribution?__"
      ]
    },
    {
      "cell_type": "markdown",
      "metadata": {
        "id": "wSpqQP2T-DaB"
      },
      "source": [
        "We have both positive and negative values in profits since it indicates either a profit or a loss based on the sales and original price of the items."
      ]
    },
    {
      "cell_type": "markdown",
      "metadata": {
        "id": "PR8LMxhg-DaB"
      },
      "source": [
        "## Visualize Discount vs. Profit"
      ]
    },
    {
      "cell_type": "code",
      "metadata": {
        "colab": {
          "base_uri": "https://localhost:8080/",
          "height": 279
        },
        "id": "a4TAN48_-DaC",
        "outputId": "1a66bfad-112e-4833-c701-41b99c16440a"
      },
      "source": [
        "sns.scatterplot(x=\"Discount\", y=\"Profit\", data=df);"
      ],
      "execution_count": 9,
      "outputs": [
        {
          "output_type": "display_data",
          "data": {
            "image/png": "[encoded data removed]",
            "text/plain": [
              "<Figure size 432x288 with 1 Axes>"
            ]
          },
          "metadata": {
            "tags": [],
            "needs_background": "light"
          }
        }
      ]
    },
    {
      "cell_type": "markdown",
      "metadata": {
        "id": "UYNgLDWW-DaC"
      },
      "source": [
        "In the above visual, we look at a scatter plot showing the distribution of profits w.r.t discounts given"
      ]
    },
    {
      "cell_type": "markdown",
      "metadata": {
        "id": "Cvbdg6Fi-DaC"
      },
      "source": [
        "# 3. Univariate Anomaly Detection\n",
        "\n",
        "Univariate is basically analysis done on a single attribute or feature. In this section, we will perform anomaly detection on a single attribute using the following methods.\n",
        "\n",
        "- Statistical Process Control Methods (mean + 3sigma thresholding)\n",
        "- Isolation Forest\n",
        "\n",
        "We will start off by demonstrating both these techniques on the __`Sales`__ attribute and later on, you will implement similar techniques on the __`Profit`__ attribute."
      ]
    },
    {
      "cell_type": "markdown",
      "metadata": {
        "id": "peAr06MM-DaD"
      },
      "source": [
        "## 3.1: Univariate Anomaly Detection on Sales using Statistical Modeling\n",
        "\n",
        "Here we start off by implementing anomaly detecting using statistical modeling on the __`Sales`__ attribute"
      ]
    },
    {
      "cell_type": "markdown",
      "metadata": {
        "id": "bSQfjiFi-DaD"
      },
      "source": [
        "### Obtain Upper Limit Threshold for Sales\n",
        "\n",
        "Here we are concerned about transactions with high sales values so we compute the upper limit using the $\\mu$ + 3$\\sigma$ rule where $\\mu$ is the mean of the distribution and $\\sigma$ is the standard deviation of the distribution."
      ]
    },
    {
      "cell_type": "code",
      "metadata": {
        "colab": {
          "base_uri": "https://localhost:8080/"
        },
        "id": "L9BuRowr-DaD",
        "outputId": "c3718186-3b22-49da-8600-27219c0b8640"
      },
      "source": [
        "mean_sales = df['Sales'].mean()\n",
        "sigma_sales = df['Sales'].std()\n",
        "three_sigma_sales = 3*sigma_sales\n",
        "\n",
        "threshold_sales_value = mean_sales + three_sigma_sales\n",
        "print('Threshold Sales:', threshold_sales_value)"
      ],
      "execution_count": 10,
      "outputs": [
        {
          "output_type": "stream",
          "text": [
            "Threshold Sales: 2099.5933023565394\n"
          ],
          "name": "stdout"
        }
      ]
    },
    {
      "cell_type": "markdown",
      "metadata": {
        "id": "f8twHxkk-DaE"
      },
      "source": [
        "### Visualize Outlier Region"
      ]
    },
    {
      "cell_type": "code",
      "metadata": {
        "colab": {
          "base_uri": "https://localhost:8080/",
          "height": 404
        },
        "id": "KMJDGIEj-DaE",
        "outputId": "9c920f71-c010-4c7f-84f2-d64de955eeb9"
      },
      "source": [
        "fig, ax = plt.subplots(1, 1, figsize=(12, 6))\n",
        "\n",
        "sns.distplot(df['Sales'])\n",
        "plt.axvspan(threshold_sales_value, df['Sales'].max(), facecolor='r', alpha=0.3)\n",
        "plt.title(\"Sales Distribution with Outlier Region\");"
      ],
      "execution_count": 11,
      "outputs": [
        {
          "output_type": "display_data",
          "data": {
            "image/png": "[encoded data removed]",
            "text/plain": [
              "<Figure size 864x432 with 1 Axes>"
            ]
          },
          "metadata": {
            "tags": [],
            "needs_background": "light"
          }
        }
      ]
    },
    {
      "cell_type": "markdown",
      "metadata": {
        "id": "khq0vWAR-DaE"
      },
      "source": [
        "### Filter and Sort Outliers\n",
        "\n",
        "Here we filter out the outlier observations and sort by descending order and view the top 5 outlier values"
      ]
    },
    {
      "cell_type": "code",
      "metadata": {
        "colab": {
          "base_uri": "https://localhost:8080/"
        },
        "id": "86_qMWMZ-DaE",
        "outputId": "f8201709-a488-4c7f-b8ed-0a6b88f3b837"
      },
      "source": [
        "sales_outliers_df = df['Sales'][df['Sales'] > threshold_sales_value]\n",
        "print('Total Sales Outliers:', len(sales_outliers_df))\n",
        "sales_outliers_sorted = sales_outliers_df.sort_values(ascending=False)\n",
        "sales_outliers_sorted.head(5)"
      ],
      "execution_count": 12,
      "outputs": [
        {
          "output_type": "stream",
          "text": [
            "Total Sales Outliers: 127\n"
          ],
          "name": "stdout"
        },
        {
          "output_type": "execute_result",
          "data": {
            "text/plain": [
              "2697    22638.480\n",
              "6826    17499.950\n",
              "8153    13999.960\n",
              "2623    11199.968\n",
              "4190    10499.970\n",
              "Name: Sales, dtype: float64"
            ]
          },
          "metadata": {
            "tags": []
          },
          "execution_count": 12
        }
      ]
    },
    {
      "cell_type": "markdown",
      "metadata": {
        "id": "kpq6GOUx-DaF"
      },
      "source": [
        "### View Top 10 Outlier Transactions"
      ]
    },
    {
      "cell_type": "code",
      "metadata": {
        "colab": {
          "base_uri": "https://localhost:8080/",
          "height": 359
        },
        "id": "Jv6BZo0o-DaF",
        "outputId": "21c086c5-2d0c-40ce-957b-1a291bd16b14"
      },
      "source": [
        "(df.loc[sales_outliers_sorted.index.tolist()][['City', 'Category', 'Sub-Category', 'Product Name', \n",
        "                                              'Sales', 'Quantity', 'Discount', 'Profit']]).head(10)"
      ],
      "execution_count": 13,
      "outputs": [
        {
          "output_type": "execute_result",
          "data": {
            "text/html": [
              "<div>\n",
              "<style scoped>\n",
              "    .dataframe tbody tr th:only-of-type {\n",
              "        vertical-align: middle;\n",
              "    }\n",
              "\n",
              "    .dataframe tbody tr th {\n",
              "        vertical-align: top;\n",
              "    }\n",
              "\n",
              "    .dataframe thead th {\n",
              "        text-align: right;\n",
              "    }\n",
              "</style>\n",
              "<table border=\"1\" class=\"dataframe\">\n",
              "  <thead>\n",
              "    <tr style=\"text-align: right;\">\n",
              "      <th></th>\n",
              "      <th>City</th>\n",
              "      <th>Category</th>\n",
              "      <th>Sub-Category</th>\n",
              "      <th>Product Name</th>\n",
              "      <th>Sales</th>\n",
              "      <th>Quantity</th>\n",
              "      <th>Discount</th>\n",
              "      <th>Profit</th>\n",
              "    </tr>\n",
              "  </thead>\n",
              "  <tbody>\n",
              "    <tr>\n",
              "      <th>2697</th>\n",
              "      <td>Jacksonville</td>\n",
              "      <td>Technology</td>\n",
              "      <td>Machines</td>\n",
              "      <td>Cisco TelePresence System EX90 Videoconferenci...</td>\n",
              "      <td>22638.480</td>\n",
              "      <td>6</td>\n",
              "      <td>0.5</td>\n",
              "      <td>-1811.0784</td>\n",
              "    </tr>\n",
              "    <tr>\n",
              "      <th>6826</th>\n",
              "      <td>Lafayette</td>\n",
              "      <td>Technology</td>\n",
              "      <td>Copiers</td>\n",
              "      <td>Canon imageCLASS 2200 Advanced Copier</td>\n",
              "      <td>17499.950</td>\n",
              "      <td>5</td>\n",
              "      <td>0.0</td>\n",
              "      <td>8399.9760</td>\n",
              "    </tr>\n",
              "    <tr>\n",
              "      <th>8153</th>\n",
              "      <td>Seattle</td>\n",
              "      <td>Technology</td>\n",
              "      <td>Copiers</td>\n",
              "      <td>Canon imageCLASS 2200 Advanced Copier</td>\n",
              "      <td>13999.960</td>\n",
              "      <td>4</td>\n",
              "      <td>0.0</td>\n",
              "      <td>6719.9808</td>\n",
              "    </tr>\n",
              "    <tr>\n",
              "      <th>2623</th>\n",
              "      <td>New York City</td>\n",
              "      <td>Technology</td>\n",
              "      <td>Copiers</td>\n",
              "      <td>Canon imageCLASS 2200 Advanced Copier</td>\n",
              "      <td>11199.968</td>\n",
              "      <td>4</td>\n",
              "      <td>0.2</td>\n",
              "      <td>3919.9888</td>\n",
              "    </tr>\n",
              "    <tr>\n",
              "      <th>4190</th>\n",
              "      <td>Newark</td>\n",
              "      <td>Technology</td>\n",
              "      <td>Copiers</td>\n",
              "      <td>Canon imageCLASS 2200 Advanced Copier</td>\n",
              "      <td>10499.970</td>\n",
              "      <td>3</td>\n",
              "      <td>0.0</td>\n",
              "      <td>5039.9856</td>\n",
              "    </tr>\n",
              "    <tr>\n",
              "      <th>9039</th>\n",
              "      <td>Detroit</td>\n",
              "      <td>Office Supplies</td>\n",
              "      <td>Binders</td>\n",
              "      <td>GBC Ibimaster 500 Manual ProClick Binding System</td>\n",
              "      <td>9892.740</td>\n",
              "      <td>13</td>\n",
              "      <td>0.0</td>\n",
              "      <td>4946.3700</td>\n",
              "    </tr>\n",
              "    <tr>\n",
              "      <th>4098</th>\n",
              "      <td>Minneapolis</td>\n",
              "      <td>Office Supplies</td>\n",
              "      <td>Binders</td>\n",
              "      <td>Ibico EPK-21 Electric Binding System</td>\n",
              "      <td>9449.950</td>\n",
              "      <td>5</td>\n",
              "      <td>0.0</td>\n",
              "      <td>4630.4755</td>\n",
              "    </tr>\n",
              "    <tr>\n",
              "      <th>4277</th>\n",
              "      <td>Lakewood</td>\n",
              "      <td>Technology</td>\n",
              "      <td>Machines</td>\n",
              "      <td>3D Systems Cube Printer, 2nd Generation, Magenta</td>\n",
              "      <td>9099.930</td>\n",
              "      <td>7</td>\n",
              "      <td>0.0</td>\n",
              "      <td>2365.9818</td>\n",
              "    </tr>\n",
              "    <tr>\n",
              "      <th>8488</th>\n",
              "      <td>Arlington</td>\n",
              "      <td>Technology</td>\n",
              "      <td>Machines</td>\n",
              "      <td>HP Designjet T520 Inkjet Large Format Printer ...</td>\n",
              "      <td>8749.950</td>\n",
              "      <td>5</td>\n",
              "      <td>0.0</td>\n",
              "      <td>2799.9840</td>\n",
              "    </tr>\n",
              "    <tr>\n",
              "      <th>6425</th>\n",
              "      <td>Philadelphia</td>\n",
              "      <td>Technology</td>\n",
              "      <td>Copiers</td>\n",
              "      <td>Canon imageCLASS 2200 Advanced Copier</td>\n",
              "      <td>8399.976</td>\n",
              "      <td>4</td>\n",
              "      <td>0.4</td>\n",
              "      <td>1119.9968</td>\n",
              "    </tr>\n",
              "  </tbody>\n",
              "</table>\n",
              "</div>"
            ],
            "text/plain": [
              "               City         Category  ... Discount     Profit\n",
              "2697   Jacksonville       Technology  ...      0.5 -1811.0784\n",
              "6826      Lafayette       Technology  ...      0.0  8399.9760\n",
              "8153        Seattle       Technology  ...      0.0  6719.9808\n",
              "2623  New York City       Technology  ...      0.2  3919.9888\n",
              "4190         Newark       Technology  ...      0.0  5039.9856\n",
              "9039        Detroit  Office Supplies  ...      0.0  4946.3700\n",
              "4098    Minneapolis  Office Supplies  ...      0.0  4630.4755\n",
              "4277       Lakewood       Technology  ...      0.0  2365.9818\n",
              "8488      Arlington       Technology  ...      0.0  2799.9840\n",
              "6425   Philadelphia       Technology  ...      0.4  1119.9968\n",
              "\n",
              "[10 rows x 8 columns]"
            ]
          },
          "metadata": {
            "tags": []
          },
          "execution_count": 13
        }
      ]
    },
    {
      "cell_type": "markdown",
      "metadata": {
        "id": "EqPfSdkf-DaF"
      },
      "source": [
        "### View Bottom 10 Outlier Transactions"
      ]
    },
    {
      "cell_type": "code",
      "metadata": {
        "colab": {
          "base_uri": "https://localhost:8080/",
          "height": 359
        },
        "id": "4psJtV3B-DaG",
        "outputId": "f2d9d9d7-28b3-40cb-ce0e-7b47d43b179f"
      },
      "source": [
        "(df.loc[sales_outliers_sorted.index.tolist()][['City', 'Category', 'Sub-Category', 'Product Name', \n",
        "                                              'Sales', 'Quantity', 'Discount', 'Profit']]).tail(10)"
      ],
      "execution_count": 14,
      "outputs": [
        {
          "output_type": "execute_result",
          "data": {
            "text/html": [
              "<div>\n",
              "<style scoped>\n",
              "    .dataframe tbody tr th:only-of-type {\n",
              "        vertical-align: middle;\n",
              "    }\n",
              "\n",
              "    .dataframe tbody tr th {\n",
              "        vertical-align: top;\n",
              "    }\n",
              "\n",
              "    .dataframe thead th {\n",
              "        text-align: right;\n",
              "    }\n",
              "</style>\n",
              "<table border=\"1\" class=\"dataframe\">\n",
              "  <thead>\n",
              "    <tr style=\"text-align: right;\">\n",
              "      <th></th>\n",
              "      <th>City</th>\n",
              "      <th>Category</th>\n",
              "      <th>Sub-Category</th>\n",
              "      <th>Product Name</th>\n",
              "      <th>Sales</th>\n",
              "      <th>Quantity</th>\n",
              "      <th>Discount</th>\n",
              "      <th>Profit</th>\n",
              "    </tr>\n",
              "  </thead>\n",
              "  <tbody>\n",
              "    <tr>\n",
              "      <th>5300</th>\n",
              "      <td>Springfield</td>\n",
              "      <td>Furniture</td>\n",
              "      <td>Tables</td>\n",
              "      <td>Hon Rectangular Conference Tables</td>\n",
              "      <td>2275.500</td>\n",
              "      <td>10</td>\n",
              "      <td>0.0</td>\n",
              "      <td>386.8350</td>\n",
              "    </tr>\n",
              "    <tr>\n",
              "      <th>6101</th>\n",
              "      <td>New York City</td>\n",
              "      <td>Furniture</td>\n",
              "      <td>Chairs</td>\n",
              "      <td>Global Troy Executive Leather Low-Back Tilter</td>\n",
              "      <td>2254.410</td>\n",
              "      <td>5</td>\n",
              "      <td>0.1</td>\n",
              "      <td>375.7350</td>\n",
              "    </tr>\n",
              "    <tr>\n",
              "      <th>4881</th>\n",
              "      <td>Henderson</td>\n",
              "      <td>Technology</td>\n",
              "      <td>Accessories</td>\n",
              "      <td>Logitech diNovo Edge Keyboard</td>\n",
              "      <td>2249.910</td>\n",
              "      <td>9</td>\n",
              "      <td>0.0</td>\n",
              "      <td>517.4793</td>\n",
              "    </tr>\n",
              "    <tr>\n",
              "      <th>7487</th>\n",
              "      <td>Dover</td>\n",
              "      <td>Technology</td>\n",
              "      <td>Accessories</td>\n",
              "      <td>Logitech diNovo Edge Keyboard</td>\n",
              "      <td>2249.910</td>\n",
              "      <td>9</td>\n",
              "      <td>0.0</td>\n",
              "      <td>517.4793</td>\n",
              "    </tr>\n",
              "    <tr>\n",
              "      <th>1155</th>\n",
              "      <td>Harrisonburg</td>\n",
              "      <td>Furniture</td>\n",
              "      <td>Tables</td>\n",
              "      <td>Chromcraft 48\" x 96\" Racetrack Double Pedestal...</td>\n",
              "      <td>2244.480</td>\n",
              "      <td>7</td>\n",
              "      <td>0.0</td>\n",
              "      <td>493.7856</td>\n",
              "    </tr>\n",
              "    <tr>\n",
              "      <th>8699</th>\n",
              "      <td>Nashville</td>\n",
              "      <td>Technology</td>\n",
              "      <td>Phones</td>\n",
              "      <td>Samsung Galaxy S III - 16GB - pebble blue (T-M...</td>\n",
              "      <td>2239.936</td>\n",
              "      <td>8</td>\n",
              "      <td>0.2</td>\n",
              "      <td>223.9936</td>\n",
              "    </tr>\n",
              "    <tr>\n",
              "      <th>9774</th>\n",
              "      <td>San Antonio</td>\n",
              "      <td>Office Supplies</td>\n",
              "      <td>Binders</td>\n",
              "      <td>GBC DocuBind P400 Electric Binding System</td>\n",
              "      <td>2177.584</td>\n",
              "      <td>8</td>\n",
              "      <td>0.8</td>\n",
              "      <td>-3701.8928</td>\n",
              "    </tr>\n",
              "    <tr>\n",
              "      <th>8424</th>\n",
              "      <td>Lakewood</td>\n",
              "      <td>Furniture</td>\n",
              "      <td>Bookcases</td>\n",
              "      <td>Global Adaptabilites Bookcase, Cherry/Storm Gr...</td>\n",
              "      <td>2154.900</td>\n",
              "      <td>5</td>\n",
              "      <td>0.0</td>\n",
              "      <td>129.2940</td>\n",
              "    </tr>\n",
              "    <tr>\n",
              "      <th>6534</th>\n",
              "      <td>Buffalo</td>\n",
              "      <td>Office Supplies</td>\n",
              "      <td>Binders</td>\n",
              "      <td>GBC DocuBind TL300 Electric Binding System</td>\n",
              "      <td>2152.776</td>\n",
              "      <td>3</td>\n",
              "      <td>0.2</td>\n",
              "      <td>726.5619</td>\n",
              "    </tr>\n",
              "    <tr>\n",
              "      <th>8680</th>\n",
              "      <td>Richmond</td>\n",
              "      <td>Office Supplies</td>\n",
              "      <td>Appliances</td>\n",
              "      <td>Honeywell Enviracaire Portable HEPA Air Cleane...</td>\n",
              "      <td>2104.550</td>\n",
              "      <td>7</td>\n",
              "      <td>0.0</td>\n",
              "      <td>694.5015</td>\n",
              "    </tr>\n",
              "  </tbody>\n",
              "</table>\n",
              "</div>"
            ],
            "text/plain": [
              "               City         Category  ... Discount     Profit\n",
              "5300    Springfield        Furniture  ...      0.0   386.8350\n",
              "6101  New York City        Furniture  ...      0.1   375.7350\n",
              "4881      Henderson       Technology  ...      0.0   517.4793\n",
              "7487          Dover       Technology  ...      0.0   517.4793\n",
              "1155   Harrisonburg        Furniture  ...      0.0   493.7856\n",
              "8699      Nashville       Technology  ...      0.2   223.9936\n",
              "9774    San Antonio  Office Supplies  ...      0.8 -3701.8928\n",
              "8424       Lakewood        Furniture  ...      0.0   129.2940\n",
              "6534        Buffalo  Office Supplies  ...      0.2   726.5619\n",
              "8680       Richmond  Office Supplies  ...      0.0   694.5015\n",
              "\n",
              "[10 rows x 8 columns]"
            ]
          },
          "metadata": {
            "tags": []
          },
          "execution_count": 14
        }
      ]
    },
    {
      "cell_type": "markdown",
      "metadata": {
        "id": "lWYlfv37-DaG"
      },
      "source": [
        "## Q 3.2: Univariate Anomaly Detection on Profit using Statistical Modeling\n",
        "\n",
        "In this section you will use the learning from Section 3.1 and implement anomaly detecting using statistical modeling on the __`Profit`__ attribute. Since we have both +ve (profits) and -ve (losses) values in the distribution, we will try to find anomalies for each."
      ]
    },
    {
      "cell_type": "markdown",
      "metadata": {
        "id": "31qKnVZC-DaG"
      },
      "source": [
        "### Obtain Upper Limit Threshold for Profit\n",
        "\n",
        "__Your turn:__ Compute the upper and lower limits using the  𝜇  + 3 𝜎  rule where  𝜇  is the mean of the distribution and  𝜎  is the standard deviation of the distribution."
      ]
    },
    {
      "cell_type": "code",
      "metadata": {
        "colab": {
          "base_uri": "https://localhost:8080/"
        },
        "id": "iXFz7vlt-DaH",
        "outputId": "6d26d633-bb72-446c-dd7a-80df837ca37e"
      },
      "source": [
        "mean_profit = df['Profit'].mean()\n",
        "sigma_profit = df['Profit'].std()\n",
        "three_sigma_profit = 3*sigma_profit\n",
        "\n",
        "threshold_profit_upper_limit = mean_profit + three_sigma_profit\n",
        "threshold_profit_lower_limit = mean_profit - three_sigma_profit\n",
        "\n",
        "print('Thresholds Profit:', threshold_profit_lower_limit, threshold_profit_upper_limit)"
      ],
      "execution_count": 15,
      "outputs": [
        {
          "output_type": "stream",
          "text": [
            "Thresholds Profit: -674.123426765088 731.4372193806576\n"
          ],
          "name": "stdout"
        }
      ]
    },
    {
      "cell_type": "markdown",
      "metadata": {
        "id": "N27JTeq8-DaH"
      },
      "source": [
        "### Visualize Outlier Regions\n",
        "\n",
        "__Your turn:__ Visualize the upper and lower outlier regions in the distribution similar to what you did in 3.1"
      ]
    },
    {
      "cell_type": "code",
      "metadata": {
        "colab": {
          "base_uri": "https://localhost:8080/",
          "height": 404
        },
        "id": "T5lt8fft-DaJ",
        "outputId": "5e3ef849-f132-4ba3-f6a8-830857824f9c"
      },
      "source": [
        "#<FILL BLANKS HERE>\n",
        "\n",
        "fig, ax = plt.subplots(1, 1, figsize=(12, 6))\n",
        "\n",
        "sns.distplot(df['Profit'])\n",
        "plt.axvspan(threshold_profit_upper_limit, df['Profit'].max(), facecolor='r', alpha=0.3)\n",
        "plt.axvspan(df['Profit'].min(),threshold_profit_lower_limit, facecolor='r', alpha=0.3)\n",
        "plt.title(\"Profit Distribution with Outlier Region\");"
      ],
      "execution_count": 17,
      "outputs": [
        {
          "output_type": "display_data",
          "data": {
            "image/png": "[encoded data removed]",
            "text/plain": [
              "<Figure size 864x432 with 1 Axes>"
            ]
          },
          "metadata": {
            "tags": [],
            "needs_background": "light"
          }
        }
      ]
    },
    {
      "cell_type": "markdown",
      "metadata": {
        "id": "7Doz4nce-DaJ"
      },
      "source": [
        "### Filter and Sort Outliers\n",
        "\n",
        "__Your turn:__ Filter out the outlier observations and sort by descending order and view the top 5 outlier values"
      ]
    },
    {
      "cell_type": "code",
      "metadata": {
        "colab": {
          "base_uri": "https://localhost:8080/"
        },
        "id": "alLhvYov-DaK",
        "outputId": "bf120ed2-435a-4703-9ad6-6beae8b4a74c"
      },
      "source": [
        "#<FILL BLANKS HERE>\n",
        "outliers = (df['Profit'] > threshold_profit_upper_limit) | (df['Profit'] < threshold_profit_lower_limit)\n",
        "profit_outliers_df = df['Profit'][outliers]\n",
        "print('Total Profit Outliers:', len(profit_outliers_df))\n",
        "profit_outliers_sorted = profit_outliers_df.sort_values(ascending=False)\n",
        "profit_outliers_sorted.head(5)"
      ],
      "execution_count": 18,
      "outputs": [
        {
          "output_type": "stream",
          "text": [
            "Total Profit Outliers: 107\n"
          ],
          "name": "stdout"
        },
        {
          "output_type": "execute_result",
          "data": {
            "text/plain": [
              "6826    8399.9760\n",
              "8153    6719.9808\n",
              "4190    5039.9856\n",
              "9039    4946.3700\n",
              "4098    4630.4755\n",
              "Name: Profit, dtype: float64"
            ]
          },
          "metadata": {
            "tags": []
          },
          "execution_count": 18
        }
      ]
    },
    {
      "cell_type": "markdown",
      "metadata": {
        "id": "vahb7sr3-DaK"
      },
      "source": [
        "### View Top 10 Outlier Transactions\n",
        "\n",
        "__Your turn:__ View the top ten transactions based on highest profits"
      ]
    },
    {
      "cell_type": "code",
      "metadata": {
        "colab": {
          "base_uri": "https://localhost:8080/",
          "height": 1000
        },
        "id": "kolZYdDP-DaL",
        "outputId": "a8197d9b-7ee7-4f24-d677-75d7d548923e"
      },
      "source": [
        "#<FILL BLANKS HERE>\n",
        "\n",
        "df.sort_values(by='Profit',ascending=False)[:10]"
      ],
      "execution_count": 20,
      "outputs": [
        {
          "output_type": "execute_result",
          "data": {
            "text/html": [
              "<div>\n",
              "<style scoped>\n",
              "    .dataframe tbody tr th:only-of-type {\n",
              "        vertical-align: middle;\n",
              "    }\n",
              "\n",
              "    .dataframe tbody tr th {\n",
              "        vertical-align: top;\n",
              "    }\n",
              "\n",
              "    .dataframe thead th {\n",
              "        text-align: right;\n",
              "    }\n",
              "</style>\n",
              "<table border=\"1\" class=\"dataframe\">\n",
              "  <thead>\n",
              "    <tr style=\"text-align: right;\">\n",
              "      <th></th>\n",
              "      <th>Row ID</th>\n",
              "      <th>Order ID</th>\n",
              "      <th>Order Date</th>\n",
              "      <th>Ship Date</th>\n",
              "      <th>Ship Mode</th>\n",
              "      <th>Customer ID</th>\n",
              "      <th>Customer Name</th>\n",
              "      <th>Segment</th>\n",
              "      <th>Country</th>\n",
              "      <th>City</th>\n",
              "      <th>State</th>\n",
              "      <th>Postal Code</th>\n",
              "      <th>Region</th>\n",
              "      <th>Product ID</th>\n",
              "      <th>Category</th>\n",
              "      <th>Sub-Category</th>\n",
              "      <th>Product Name</th>\n",
              "      <th>Sales</th>\n",
              "      <th>Quantity</th>\n",
              "      <th>Discount</th>\n",
              "      <th>Profit</th>\n",
              "    </tr>\n",
              "  </thead>\n",
              "  <tbody>\n",
              "    <tr>\n",
              "      <th>6826</th>\n",
              "      <td>6827</td>\n",
              "      <td>CA-2016-118689</td>\n",
              "      <td>2016-10-02</td>\n",
              "      <td>2016-10-09</td>\n",
              "      <td>Standard Class</td>\n",
              "      <td>TC-20980</td>\n",
              "      <td>Tamara Chand</td>\n",
              "      <td>Corporate</td>\n",
              "      <td>United States</td>\n",
              "      <td>Lafayette</td>\n",
              "      <td>Indiana</td>\n",
              "      <td>47905</td>\n",
              "      <td>Central</td>\n",
              "      <td>TEC-CO-10004722</td>\n",
              "      <td>Technology</td>\n",
              "      <td>Copiers</td>\n",
              "      <td>Canon imageCLASS 2200 Advanced Copier</td>\n",
              "      <td>17499.950</td>\n",
              "      <td>5</td>\n",
              "      <td>0.0</td>\n",
              "      <td>8399.9760</td>\n",
              "    </tr>\n",
              "    <tr>\n",
              "      <th>8153</th>\n",
              "      <td>8154</td>\n",
              "      <td>CA-2017-140151</td>\n",
              "      <td>2017-03-23</td>\n",
              "      <td>2017-03-25</td>\n",
              "      <td>First Class</td>\n",
              "      <td>RB-19360</td>\n",
              "      <td>Raymond Buch</td>\n",
              "      <td>Consumer</td>\n",
              "      <td>United States</td>\n",
              "      <td>Seattle</td>\n",
              "      <td>Washington</td>\n",
              "      <td>98115</td>\n",
              "      <td>West</td>\n",
              "      <td>TEC-CO-10004722</td>\n",
              "      <td>Technology</td>\n",
              "      <td>Copiers</td>\n",
              "      <td>Canon imageCLASS 2200 Advanced Copier</td>\n",
              "      <td>13999.960</td>\n",
              "      <td>4</td>\n",
              "      <td>0.0</td>\n",
              "      <td>6719.9808</td>\n",
              "    </tr>\n",
              "    <tr>\n",
              "      <th>4190</th>\n",
              "      <td>4191</td>\n",
              "      <td>CA-2017-166709</td>\n",
              "      <td>2017-11-17</td>\n",
              "      <td>2017-11-22</td>\n",
              "      <td>Standard Class</td>\n",
              "      <td>HL-15040</td>\n",
              "      <td>Hunter Lopez</td>\n",
              "      <td>Consumer</td>\n",
              "      <td>United States</td>\n",
              "      <td>Newark</td>\n",
              "      <td>Delaware</td>\n",
              "      <td>19711</td>\n",
              "      <td>East</td>\n",
              "      <td>TEC-CO-10004722</td>\n",
              "      <td>Technology</td>\n",
              "      <td>Copiers</td>\n",
              "      <td>Canon imageCLASS 2200 Advanced Copier</td>\n",
              "      <td>10499.970</td>\n",
              "      <td>3</td>\n",
              "      <td>0.0</td>\n",
              "      <td>5039.9856</td>\n",
              "    </tr>\n",
              "    <tr>\n",
              "      <th>9039</th>\n",
              "      <td>9040</td>\n",
              "      <td>CA-2016-117121</td>\n",
              "      <td>2016-12-17</td>\n",
              "      <td>2016-12-21</td>\n",
              "      <td>Standard Class</td>\n",
              "      <td>AB-10105</td>\n",
              "      <td>Adrian Barton</td>\n",
              "      <td>Consumer</td>\n",
              "      <td>United States</td>\n",
              "      <td>Detroit</td>\n",
              "      <td>Michigan</td>\n",
              "      <td>48205</td>\n",
              "      <td>Central</td>\n",
              "      <td>OFF-BI-10000545</td>\n",
              "      <td>Office Supplies</td>\n",
              "      <td>Binders</td>\n",
              "      <td>GBC Ibimaster 500 Manual ProClick Binding System</td>\n",
              "      <td>9892.740</td>\n",
              "      <td>13</td>\n",
              "      <td>0.0</td>\n",
              "      <td>4946.3700</td>\n",
              "    </tr>\n",
              "    <tr>\n",
              "      <th>4098</th>\n",
              "      <td>4099</td>\n",
              "      <td>CA-2014-116904</td>\n",
              "      <td>2014-09-23</td>\n",
              "      <td>2014-09-28</td>\n",
              "      <td>Standard Class</td>\n",
              "      <td>SC-20095</td>\n",
              "      <td>Sanjit Chand</td>\n",
              "      <td>Consumer</td>\n",
              "      <td>United States</td>\n",
              "      <td>Minneapolis</td>\n",
              "      <td>Minnesota</td>\n",
              "      <td>55407</td>\n",
              "      <td>Central</td>\n",
              "      <td>OFF-BI-10001120</td>\n",
              "      <td>Office Supplies</td>\n",
              "      <td>Binders</td>\n",
              "      <td>Ibico EPK-21 Electric Binding System</td>\n",
              "      <td>9449.950</td>\n",
              "      <td>5</td>\n",
              "      <td>0.0</td>\n",
              "      <td>4630.4755</td>\n",
              "    </tr>\n",
              "    <tr>\n",
              "      <th>2623</th>\n",
              "      <td>2624</td>\n",
              "      <td>CA-2017-127180</td>\n",
              "      <td>2017-10-22</td>\n",
              "      <td>2017-10-24</td>\n",
              "      <td>First Class</td>\n",
              "      <td>TA-21385</td>\n",
              "      <td>Tom Ashbrook</td>\n",
              "      <td>Home Office</td>\n",
              "      <td>United States</td>\n",
              "      <td>New York City</td>\n",
              "      <td>New York</td>\n",
              "      <td>10024</td>\n",
              "      <td>East</td>\n",
              "      <td>TEC-CO-10004722</td>\n",
              "      <td>Technology</td>\n",
              "      <td>Copiers</td>\n",
              "      <td>Canon imageCLASS 2200 Advanced Copier</td>\n",
              "      <td>11199.968</td>\n",
              "      <td>4</td>\n",
              "      <td>0.2</td>\n",
              "      <td>3919.9888</td>\n",
              "    </tr>\n",
              "    <tr>\n",
              "      <th>509</th>\n",
              "      <td>510</td>\n",
              "      <td>CA-2015-145352</td>\n",
              "      <td>2015-03-16</td>\n",
              "      <td>2015-03-22</td>\n",
              "      <td>Standard Class</td>\n",
              "      <td>CM-12385</td>\n",
              "      <td>Christopher Martinez</td>\n",
              "      <td>Consumer</td>\n",
              "      <td>United States</td>\n",
              "      <td>Atlanta</td>\n",
              "      <td>Georgia</td>\n",
              "      <td>30318</td>\n",
              "      <td>South</td>\n",
              "      <td>OFF-BI-10003527</td>\n",
              "      <td>Office Supplies</td>\n",
              "      <td>Binders</td>\n",
              "      <td>Fellowes PB500 Electric Punch Plastic Comb Bin...</td>\n",
              "      <td>6354.950</td>\n",
              "      <td>5</td>\n",
              "      <td>0.0</td>\n",
              "      <td>3177.4750</td>\n",
              "    </tr>\n",
              "    <tr>\n",
              "      <th>8488</th>\n",
              "      <td>8489</td>\n",
              "      <td>CA-2016-158841</td>\n",
              "      <td>2016-02-02</td>\n",
              "      <td>2016-02-04</td>\n",
              "      <td>Second Class</td>\n",
              "      <td>SE-20110</td>\n",
              "      <td>Sanjit Engle</td>\n",
              "      <td>Consumer</td>\n",
              "      <td>United States</td>\n",
              "      <td>Arlington</td>\n",
              "      <td>Virginia</td>\n",
              "      <td>22204</td>\n",
              "      <td>South</td>\n",
              "      <td>TEC-MA-10001127</td>\n",
              "      <td>Technology</td>\n",
              "      <td>Machines</td>\n",
              "      <td>HP Designjet T520 Inkjet Large Format Printer ...</td>\n",
              "      <td>8749.950</td>\n",
              "      <td>5</td>\n",
              "      <td>0.0</td>\n",
              "      <td>2799.9840</td>\n",
              "    </tr>\n",
              "    <tr>\n",
              "      <th>7666</th>\n",
              "      <td>7667</td>\n",
              "      <td>US-2016-140158</td>\n",
              "      <td>2016-10-04</td>\n",
              "      <td>2016-10-08</td>\n",
              "      <td>Standard Class</td>\n",
              "      <td>DR-12940</td>\n",
              "      <td>Daniel Raglin</td>\n",
              "      <td>Home Office</td>\n",
              "      <td>United States</td>\n",
              "      <td>Providence</td>\n",
              "      <td>Rhode Island</td>\n",
              "      <td>2908</td>\n",
              "      <td>East</td>\n",
              "      <td>TEC-CO-10001449</td>\n",
              "      <td>Technology</td>\n",
              "      <td>Copiers</td>\n",
              "      <td>Hewlett Packard LaserJet 3310 Copier</td>\n",
              "      <td>5399.910</td>\n",
              "      <td>9</td>\n",
              "      <td>0.0</td>\n",
              "      <td>2591.9568</td>\n",
              "    </tr>\n",
              "    <tr>\n",
              "      <th>6520</th>\n",
              "      <td>6521</td>\n",
              "      <td>CA-2017-138289</td>\n",
              "      <td>2017-01-16</td>\n",
              "      <td>2017-01-18</td>\n",
              "      <td>Second Class</td>\n",
              "      <td>AR-10540</td>\n",
              "      <td>Andy Reiter</td>\n",
              "      <td>Consumer</td>\n",
              "      <td>United States</td>\n",
              "      <td>Jackson</td>\n",
              "      <td>Michigan</td>\n",
              "      <td>49201</td>\n",
              "      <td>Central</td>\n",
              "      <td>OFF-BI-10004995</td>\n",
              "      <td>Office Supplies</td>\n",
              "      <td>Binders</td>\n",
              "      <td>GBC DocuBind P400 Electric Binding System</td>\n",
              "      <td>5443.960</td>\n",
              "      <td>4</td>\n",
              "      <td>0.0</td>\n",
              "      <td>2504.2216</td>\n",
              "    </tr>\n",
              "  </tbody>\n",
              "</table>\n",
              "</div>"
            ],
            "text/plain": [
              "      Row ID        Order ID Order Date  ... Quantity Discount     Profit\n",
              "6826    6827  CA-2016-118689 2016-10-02  ...        5      0.0  8399.9760\n",
              "8153    8154  CA-2017-140151 2017-03-23  ...        4      0.0  6719.9808\n",
              "4190    4191  CA-2017-166709 2017-11-17  ...        3      0.0  5039.9856\n",
              "9039    9040  CA-2016-117121 2016-12-17  ...       13      0.0  4946.3700\n",
              "4098    4099  CA-2014-116904 2014-09-23  ...        5      0.0  4630.4755\n",
              "2623    2624  CA-2017-127180 2017-10-22  ...        4      0.2  3919.9888\n",
              "509      510  CA-2015-145352 2015-03-16  ...        5      0.0  3177.4750\n",
              "8488    8489  CA-2016-158841 2016-02-02  ...        5      0.0  2799.9840\n",
              "7666    7667  US-2016-140158 2016-10-04  ...        9      0.0  2591.9568\n",
              "6520    6521  CA-2017-138289 2017-01-16  ...        4      0.0  2504.2216\n",
              "\n",
              "[10 rows x 21 columns]"
            ]
          },
          "metadata": {
            "tags": []
          },
          "execution_count": 20
        }
      ]
    },
    {
      "cell_type": "markdown",
      "metadata": {
        "id": "KecS1Ufw-DaM"
      },
      "source": [
        "### Q: Do you notice any interesting insights based on these transactions?"
      ]
    },
    {
      "cell_type": "markdown",
      "metadata": {
        "id": "ji0ultKb-DaN"
      },
      "source": [
        "__A:__ Most of these are purchases for Copiers and Binders , looks like Canon products yielded some good profits`"
      ]
    },
    {
      "cell_type": "markdown",
      "metadata": {
        "id": "26V4HSWy-DaO"
      },
      "source": [
        "### View Bottom 10 Outlier Transactions\n",
        "\n",
        "__Your turn:__ View the bottom ten transactions based on lowest profits (highest losses)"
      ]
    },
    {
      "cell_type": "code",
      "metadata": {
        "colab": {
          "base_uri": "https://localhost:8080/",
          "height": 804
        },
        "id": "qlHj5se2-DaO",
        "outputId": "c180e70e-5b2a-4f31-c519-9c1ab8c29ce4"
      },
      "source": [
        "#<FILL BLANKS HERE>\n",
        "df.sort_values(by='Profit')[:10]"
      ],
      "execution_count": 22,
      "outputs": [
        {
          "output_type": "execute_result",
          "data": {
            "text/html": [
              "<div>\n",
              "<style scoped>\n",
              "    .dataframe tbody tr th:only-of-type {\n",
              "        vertical-align: middle;\n",
              "    }\n",
              "\n",
              "    .dataframe tbody tr th {\n",
              "        vertical-align: top;\n",
              "    }\n",
              "\n",
              "    .dataframe thead th {\n",
              "        text-align: right;\n",
              "    }\n",
              "</style>\n",
              "<table border=\"1\" class=\"dataframe\">\n",
              "  <thead>\n",
              "    <tr style=\"text-align: right;\">\n",
              "      <th></th>\n",
              "      <th>Row ID</th>\n",
              "      <th>Order ID</th>\n",
              "      <th>Order Date</th>\n",
              "      <th>Ship Date</th>\n",
              "      <th>Ship Mode</th>\n",
              "      <th>Customer ID</th>\n",
              "      <th>Customer Name</th>\n",
              "      <th>Segment</th>\n",
              "      <th>Country</th>\n",
              "      <th>City</th>\n",
              "      <th>State</th>\n",
              "      <th>Postal Code</th>\n",
              "      <th>Region</th>\n",
              "      <th>Product ID</th>\n",
              "      <th>Category</th>\n",
              "      <th>Sub-Category</th>\n",
              "      <th>Product Name</th>\n",
              "      <th>Sales</th>\n",
              "      <th>Quantity</th>\n",
              "      <th>Discount</th>\n",
              "      <th>Profit</th>\n",
              "    </tr>\n",
              "  </thead>\n",
              "  <tbody>\n",
              "    <tr>\n",
              "      <th>7772</th>\n",
              "      <td>7773</td>\n",
              "      <td>CA-2016-108196</td>\n",
              "      <td>2016-11-25</td>\n",
              "      <td>2016-12-02</td>\n",
              "      <td>Standard Class</td>\n",
              "      <td>CS-12505</td>\n",
              "      <td>Cindy Stewart</td>\n",
              "      <td>Consumer</td>\n",
              "      <td>United States</td>\n",
              "      <td>Lancaster</td>\n",
              "      <td>Ohio</td>\n",
              "      <td>43130</td>\n",
              "      <td>East</td>\n",
              "      <td>TEC-MA-10000418</td>\n",
              "      <td>Technology</td>\n",
              "      <td>Machines</td>\n",
              "      <td>Cubify CubeX 3D Printer Double Head Print</td>\n",
              "      <td>4499.985</td>\n",
              "      <td>5</td>\n",
              "      <td>0.7</td>\n",
              "      <td>-6599.9780</td>\n",
              "    </tr>\n",
              "    <tr>\n",
              "      <th>683</th>\n",
              "      <td>684</td>\n",
              "      <td>US-2017-168116</td>\n",
              "      <td>2017-11-04</td>\n",
              "      <td>2017-11-04</td>\n",
              "      <td>Same Day</td>\n",
              "      <td>GT-14635</td>\n",
              "      <td>Grant Thornton</td>\n",
              "      <td>Corporate</td>\n",
              "      <td>United States</td>\n",
              "      <td>Burlington</td>\n",
              "      <td>North Carolina</td>\n",
              "      <td>27217</td>\n",
              "      <td>South</td>\n",
              "      <td>TEC-MA-10004125</td>\n",
              "      <td>Technology</td>\n",
              "      <td>Machines</td>\n",
              "      <td>Cubify CubeX 3D Printer Triple Head Print</td>\n",
              "      <td>7999.980</td>\n",
              "      <td>4</td>\n",
              "      <td>0.5</td>\n",
              "      <td>-3839.9904</td>\n",
              "    </tr>\n",
              "    <tr>\n",
              "      <th>9774</th>\n",
              "      <td>9775</td>\n",
              "      <td>CA-2014-169019</td>\n",
              "      <td>2014-07-26</td>\n",
              "      <td>2014-07-30</td>\n",
              "      <td>Standard Class</td>\n",
              "      <td>LF-17185</td>\n",
              "      <td>Luke Foster</td>\n",
              "      <td>Consumer</td>\n",
              "      <td>United States</td>\n",
              "      <td>San Antonio</td>\n",
              "      <td>Texas</td>\n",
              "      <td>78207</td>\n",
              "      <td>Central</td>\n",
              "      <td>OFF-BI-10004995</td>\n",
              "      <td>Office Supplies</td>\n",
              "      <td>Binders</td>\n",
              "      <td>GBC DocuBind P400 Electric Binding System</td>\n",
              "      <td>2177.584</td>\n",
              "      <td>8</td>\n",
              "      <td>0.8</td>\n",
              "      <td>-3701.8928</td>\n",
              "    </tr>\n",
              "    <tr>\n",
              "      <th>3011</th>\n",
              "      <td>3012</td>\n",
              "      <td>CA-2017-134845</td>\n",
              "      <td>2017-04-17</td>\n",
              "      <td>2017-04-23</td>\n",
              "      <td>Standard Class</td>\n",
              "      <td>SR-20425</td>\n",
              "      <td>Sharelle Roach</td>\n",
              "      <td>Home Office</td>\n",
              "      <td>United States</td>\n",
              "      <td>Louisville</td>\n",
              "      <td>Colorado</td>\n",
              "      <td>80027</td>\n",
              "      <td>West</td>\n",
              "      <td>TEC-MA-10000822</td>\n",
              "      <td>Technology</td>\n",
              "      <td>Machines</td>\n",
              "      <td>Lexmark MX611dhe Monochrome Laser Printer</td>\n",
              "      <td>2549.985</td>\n",
              "      <td>5</td>\n",
              "      <td>0.7</td>\n",
              "      <td>-3399.9800</td>\n",
              "    </tr>\n",
              "    <tr>\n",
              "      <th>4991</th>\n",
              "      <td>4992</td>\n",
              "      <td>US-2017-122714</td>\n",
              "      <td>2017-12-07</td>\n",
              "      <td>2017-12-13</td>\n",
              "      <td>Standard Class</td>\n",
              "      <td>HG-14965</td>\n",
              "      <td>Henry Goldwyn</td>\n",
              "      <td>Corporate</td>\n",
              "      <td>United States</td>\n",
              "      <td>Chicago</td>\n",
              "      <td>Illinois</td>\n",
              "      <td>60653</td>\n",
              "      <td>Central</td>\n",
              "      <td>OFF-BI-10001120</td>\n",
              "      <td>Office Supplies</td>\n",
              "      <td>Binders</td>\n",
              "      <td>Ibico EPK-21 Electric Binding System</td>\n",
              "      <td>1889.990</td>\n",
              "      <td>5</td>\n",
              "      <td>0.8</td>\n",
              "      <td>-2929.4845</td>\n",
              "    </tr>\n",
              "    <tr>\n",
              "      <th>3151</th>\n",
              "      <td>3152</td>\n",
              "      <td>CA-2015-147830</td>\n",
              "      <td>2015-12-15</td>\n",
              "      <td>2015-12-18</td>\n",
              "      <td>First Class</td>\n",
              "      <td>NF-18385</td>\n",
              "      <td>Natalie Fritzler</td>\n",
              "      <td>Consumer</td>\n",
              "      <td>United States</td>\n",
              "      <td>Newark</td>\n",
              "      <td>Ohio</td>\n",
              "      <td>43055</td>\n",
              "      <td>East</td>\n",
              "      <td>TEC-MA-10000418</td>\n",
              "      <td>Technology</td>\n",
              "      <td>Machines</td>\n",
              "      <td>Cubify CubeX 3D Printer Double Head Print</td>\n",
              "      <td>1799.994</td>\n",
              "      <td>2</td>\n",
              "      <td>0.7</td>\n",
              "      <td>-2639.9912</td>\n",
              "    </tr>\n",
              "    <tr>\n",
              "      <th>5310</th>\n",
              "      <td>5311</td>\n",
              "      <td>CA-2017-131254</td>\n",
              "      <td>2017-11-19</td>\n",
              "      <td>2017-11-21</td>\n",
              "      <td>First Class</td>\n",
              "      <td>NC-18415</td>\n",
              "      <td>Nathan Cano</td>\n",
              "      <td>Consumer</td>\n",
              "      <td>United States</td>\n",
              "      <td>Houston</td>\n",
              "      <td>Texas</td>\n",
              "      <td>77095</td>\n",
              "      <td>Central</td>\n",
              "      <td>OFF-BI-10003527</td>\n",
              "      <td>Office Supplies</td>\n",
              "      <td>Binders</td>\n",
              "      <td>Fellowes PB500 Electric Punch Plastic Comb Bin...</td>\n",
              "      <td>1525.188</td>\n",
              "      <td>6</td>\n",
              "      <td>0.8</td>\n",
              "      <td>-2287.7820</td>\n",
              "    </tr>\n",
              "    <tr>\n",
              "      <th>9639</th>\n",
              "      <td>9640</td>\n",
              "      <td>CA-2015-116638</td>\n",
              "      <td>2015-01-28</td>\n",
              "      <td>2015-01-31</td>\n",
              "      <td>Second Class</td>\n",
              "      <td>JH-15985</td>\n",
              "      <td>Joseph Holt</td>\n",
              "      <td>Consumer</td>\n",
              "      <td>United States</td>\n",
              "      <td>Concord</td>\n",
              "      <td>North Carolina</td>\n",
              "      <td>28027</td>\n",
              "      <td>South</td>\n",
              "      <td>FUR-TA-10000198</td>\n",
              "      <td>Furniture</td>\n",
              "      <td>Tables</td>\n",
              "      <td>Chromcraft Bull-Nose Wood Oval Conference Tabl...</td>\n",
              "      <td>4297.644</td>\n",
              "      <td>13</td>\n",
              "      <td>0.4</td>\n",
              "      <td>-1862.3124</td>\n",
              "    </tr>\n",
              "    <tr>\n",
              "      <th>1199</th>\n",
              "      <td>1200</td>\n",
              "      <td>CA-2016-130946</td>\n",
              "      <td>2016-04-08</td>\n",
              "      <td>2016-04-12</td>\n",
              "      <td>Standard Class</td>\n",
              "      <td>ZC-21910</td>\n",
              "      <td>Zuschuss Carroll</td>\n",
              "      <td>Consumer</td>\n",
              "      <td>United States</td>\n",
              "      <td>Houston</td>\n",
              "      <td>Texas</td>\n",
              "      <td>77041</td>\n",
              "      <td>Central</td>\n",
              "      <td>OFF-BI-10004995</td>\n",
              "      <td>Office Supplies</td>\n",
              "      <td>Binders</td>\n",
              "      <td>GBC DocuBind P400 Electric Binding System</td>\n",
              "      <td>1088.792</td>\n",
              "      <td>4</td>\n",
              "      <td>0.8</td>\n",
              "      <td>-1850.9464</td>\n",
              "    </tr>\n",
              "    <tr>\n",
              "      <th>2697</th>\n",
              "      <td>2698</td>\n",
              "      <td>CA-2014-145317</td>\n",
              "      <td>2014-03-18</td>\n",
              "      <td>2014-03-23</td>\n",
              "      <td>Standard Class</td>\n",
              "      <td>SM-20320</td>\n",
              "      <td>Sean Miller</td>\n",
              "      <td>Home Office</td>\n",
              "      <td>United States</td>\n",
              "      <td>Jacksonville</td>\n",
              "      <td>Florida</td>\n",
              "      <td>32216</td>\n",
              "      <td>South</td>\n",
              "      <td>TEC-MA-10002412</td>\n",
              "      <td>Technology</td>\n",
              "      <td>Machines</td>\n",
              "      <td>Cisco TelePresence System EX90 Videoconferenci...</td>\n",
              "      <td>22638.480</td>\n",
              "      <td>6</td>\n",
              "      <td>0.5</td>\n",
              "      <td>-1811.0784</td>\n",
              "    </tr>\n",
              "  </tbody>\n",
              "</table>\n",
              "</div>"
            ],
            "text/plain": [
              "      Row ID        Order ID Order Date  ... Quantity Discount     Profit\n",
              "7772    7773  CA-2016-108196 2016-11-25  ...        5      0.7 -6599.9780\n",
              "683      684  US-2017-168116 2017-11-04  ...        4      0.5 -3839.9904\n",
              "9774    9775  CA-2014-169019 2014-07-26  ...        8      0.8 -3701.8928\n",
              "3011    3012  CA-2017-134845 2017-04-17  ...        5      0.7 -3399.9800\n",
              "4991    4992  US-2017-122714 2017-12-07  ...        5      0.8 -2929.4845\n",
              "3151    3152  CA-2015-147830 2015-12-15  ...        2      0.7 -2639.9912\n",
              "5310    5311  CA-2017-131254 2017-11-19  ...        6      0.8 -2287.7820\n",
              "9639    9640  CA-2015-116638 2015-01-28  ...       13      0.4 -1862.3124\n",
              "1199    1200  CA-2016-130946 2016-04-08  ...        4      0.8 -1850.9464\n",
              "2697    2698  CA-2014-145317 2014-03-18  ...        6      0.5 -1811.0784\n",
              "\n",
              "[10 rows x 21 columns]"
            ]
          },
          "metadata": {
            "tags": []
          },
          "execution_count": 22
        }
      ]
    },
    {
      "cell_type": "markdown",
      "metadata": {
        "id": "fnwMWScj-DaO"
      },
      "source": [
        "### Q: Do you notice any interesting insights based on these transactions?"
      ]
    },
    {
      "cell_type": "markdown",
      "metadata": {
        "id": "iO0ICZ0K-DaP"
      },
      "source": [
        "__A:__ Most of these are purchases for Machines and Binders , looks like Cibify 3D Printers yielded high losses"
      ]
    },
    {
      "cell_type": "markdown",
      "metadata": {
        "id": "Q7jzfq-t-DaP"
      },
      "source": [
        "## 3.3: Univariate Anomaly Detection on Sales using Isolation Forest\n",
        "\n",
        "You might have already learnt about this model from the curriculum. Just to briefly recap, the Isolation Forest model,  'isolates' observations by randomly selecting a feature and then randomly selecting a split value between the maximum and minimum values of the selected feature.\n",
        "\n",
        "Recursive partitioning can be represented by a tree structure. Hence, the number of splittings required to isolate a sample is equivalent to the path length from the root node to the terminating node. This path length, averaged over a forest of such random trees, is a measure of normality and our decision function.\n",
        "\n",
        "Random partitioning produces noticeably shorter paths for anomalies. Hence, when a forest of random trees collectively produce shorter path lengths for particular samples, they are highly likely to be anomalies.\n",
        "\n",
        "More details are available in this [User Guide](https://scikit-learn.org/stable/modules/outlier_detection.html#isolation-forest)"
      ]
    },
    {
      "cell_type": "markdown",
      "metadata": {
        "id": "wnkRrmQl-DaP"
      },
      "source": [
        "### Initialize and Train Model\n",
        "\n",
        "Here we initialize the isolation forest model with some hyperparameters assuming the proportion of outliers to be 1% of the total data (using the `contamination` setting)"
      ]
    },
    {
      "cell_type": "code",
      "metadata": {
        "colab": {
          "base_uri": "https://localhost:8080/"
        },
        "id": "Cqhv48Fy-DaQ",
        "outputId": "51029cb1-aa74-4557-f672-834d8e8aa7fe"
      },
      "source": [
        "from sklearn.ensemble import IsolationForest\n",
        "\n",
        "sales_ifmodel = IsolationForest(n_estimators=100,\n",
        "                                contamination=0.01)\n",
        "sales_ifmodel.fit(df[['Sales']])"
      ],
      "execution_count": 23,
      "outputs": [
        {
          "output_type": "execute_result",
          "data": {
            "text/plain": [
              "IsolationForest(behaviour='deprecated', bootstrap=False, contamination=0.01,\n",
              "                max_features=1.0, max_samples='auto', n_estimators=100,\n",
              "                n_jobs=None, random_state=None, verbose=0, warm_start=False)"
            ]
          },
          "metadata": {
            "tags": []
          },
          "execution_count": 23
        }
      ]
    },
    {
      "cell_type": "markdown",
      "metadata": {
        "id": "51s9vgfe-DaQ"
      },
      "source": [
        "### Visualize Outlier Region\n",
        "\n",
        "Here we visualize the outlier region in the data distribution"
      ]
    },
    {
      "cell_type": "code",
      "metadata": {
        "scrolled": false,
        "colab": {
          "base_uri": "https://localhost:8080/",
          "height": 388
        },
        "id": "fC0f3tfu-DaR",
        "outputId": "d866fb96-3dbf-449c-e83b-ce894293f3b2"
      },
      "source": [
        "xx = np.linspace(df['Sales'].min(), df['Sales'].max(), len(df)).reshape(-1,1)\n",
        "anomaly_score = sales_ifmodel.decision_function(xx)\n",
        "outlier = sales_ifmodel.predict(xx)\n",
        "plt.figure(figsize=(12, 6))\n",
        "plt.plot(xx, anomaly_score, label='anomaly score')\n",
        "plt.fill_between(xx.T[0], np.min(anomaly_score), np.max(anomaly_score), \n",
        "                 where=outlier==-1, color='r', \n",
        "                 alpha=.4, label='outlier region')\n",
        "plt.legend()\n",
        "plt.ylabel('anomaly score')\n",
        "plt.xlabel('Sales');"
      ],
      "execution_count": 24,
      "outputs": [
        {
          "output_type": "display_data",
          "data": {
            "image/png": "[encoded data removed]",
            "text/plain": [
              "<Figure size 864x432 with 1 Axes>"
            ]
          },
          "metadata": {
            "tags": [],
            "needs_background": "light"
          }
        }
      ]
    },
    {
      "cell_type": "markdown",
      "metadata": {
        "id": "6V8E5vHQ-DaR"
      },
      "source": [
        "### Filter and Sort Outliers\n",
        "\n",
        "Here we predict outliers in our dataset using our trained model and filter out the outlier observations and sort by descending order and view the top 5 outlier values"
      ]
    },
    {
      "cell_type": "code",
      "metadata": {
        "colab": {
          "base_uri": "https://localhost:8080/"
        },
        "id": "KLiCeeeK-DaS",
        "outputId": "9a0a3a00-f88a-46e7-9b9f-64948904a34f"
      },
      "source": [
        "outlier_predictions = sales_ifmodel.predict(df[['Sales']])\n",
        "\n",
        "sales_outliers_df = df[['Sales']]\n",
        "sales_outliers_df['Outlier'] = outlier_predictions\n",
        "sales_outliers_df = sales_outliers_df[sales_outliers_df['Outlier'] == -1]['Sales']\n",
        "\n",
        "print('Total Sales Outliers:', len(sales_outliers_df))\n",
        "sales_outliers_sorted = sales_outliers_df.sort_values(ascending=False)\n",
        "sales_outliers_sorted.head(5)"
      ],
      "execution_count": 25,
      "outputs": [
        {
          "output_type": "stream",
          "text": [
            "Total Sales Outliers: 100\n"
          ],
          "name": "stdout"
        },
        {
          "output_type": "execute_result",
          "data": {
            "text/plain": [
              "2697    22638.480\n",
              "6826    17499.950\n",
              "8153    13999.960\n",
              "2623    11199.968\n",
              "4190    10499.970\n",
              "Name: Sales, dtype: float64"
            ]
          },
          "metadata": {
            "tags": []
          },
          "execution_count": 25
        }
      ]
    },
    {
      "cell_type": "markdown",
      "metadata": {
        "id": "kbu1_HP7-DaS"
      },
      "source": [
        "### View Top 10 Outlier Transactions"
      ]
    },
    {
      "cell_type": "code",
      "metadata": {
        "colab": {
          "base_uri": "https://localhost:8080/",
          "height": 359
        },
        "id": "VFGZSQ8l-DaS",
        "outputId": "6a8e1157-1652-44cc-b436-5cba5073d92b"
      },
      "source": [
        "(df.loc[sales_outliers_sorted.index.tolist()][['City', 'Category', 'Sub-Category', 'Product Name', \n",
        "                                              'Sales', 'Quantity', 'Discount', 'Profit']]).head(10)"
      ],
      "execution_count": 26,
      "outputs": [
        {
          "output_type": "execute_result",
          "data": {
            "text/html": [
              "<div>\n",
              "<style scoped>\n",
              "    .dataframe tbody tr th:only-of-type {\n",
              "        vertical-align: middle;\n",
              "    }\n",
              "\n",
              "    .dataframe tbody tr th {\n",
              "        vertical-align: top;\n",
              "    }\n",
              "\n",
              "    .dataframe thead th {\n",
              "        text-align: right;\n",
              "    }\n",
              "</style>\n",
              "<table border=\"1\" class=\"dataframe\">\n",
              "  <thead>\n",
              "    <tr style=\"text-align: right;\">\n",
              "      <th></th>\n",
              "      <th>City</th>\n",
              "      <th>Category</th>\n",
              "      <th>Sub-Category</th>\n",
              "      <th>Product Name</th>\n",
              "      <th>Sales</th>\n",
              "      <th>Quantity</th>\n",
              "      <th>Discount</th>\n",
              "      <th>Profit</th>\n",
              "    </tr>\n",
              "  </thead>\n",
              "  <tbody>\n",
              "    <tr>\n",
              "      <th>2697</th>\n",
              "      <td>Jacksonville</td>\n",
              "      <td>Technology</td>\n",
              "      <td>Machines</td>\n",
              "      <td>Cisco TelePresence System EX90 Videoconferenci...</td>\n",
              "      <td>22638.480</td>\n",
              "      <td>6</td>\n",
              "      <td>0.5</td>\n",
              "      <td>-1811.0784</td>\n",
              "    </tr>\n",
              "    <tr>\n",
              "      <th>6826</th>\n",
              "      <td>Lafayette</td>\n",
              "      <td>Technology</td>\n",
              "      <td>Copiers</td>\n",
              "      <td>Canon imageCLASS 2200 Advanced Copier</td>\n",
              "      <td>17499.950</td>\n",
              "      <td>5</td>\n",
              "      <td>0.0</td>\n",
              "      <td>8399.9760</td>\n",
              "    </tr>\n",
              "    <tr>\n",
              "      <th>8153</th>\n",
              "      <td>Seattle</td>\n",
              "      <td>Technology</td>\n",
              "      <td>Copiers</td>\n",
              "      <td>Canon imageCLASS 2200 Advanced Copier</td>\n",
              "      <td>13999.960</td>\n",
              "      <td>4</td>\n",
              "      <td>0.0</td>\n",
              "      <td>6719.9808</td>\n",
              "    </tr>\n",
              "    <tr>\n",
              "      <th>2623</th>\n",
              "      <td>New York City</td>\n",
              "      <td>Technology</td>\n",
              "      <td>Copiers</td>\n",
              "      <td>Canon imageCLASS 2200 Advanced Copier</td>\n",
              "      <td>11199.968</td>\n",
              "      <td>4</td>\n",
              "      <td>0.2</td>\n",
              "      <td>3919.9888</td>\n",
              "    </tr>\n",
              "    <tr>\n",
              "      <th>4190</th>\n",
              "      <td>Newark</td>\n",
              "      <td>Technology</td>\n",
              "      <td>Copiers</td>\n",
              "      <td>Canon imageCLASS 2200 Advanced Copier</td>\n",
              "      <td>10499.970</td>\n",
              "      <td>3</td>\n",
              "      <td>0.0</td>\n",
              "      <td>5039.9856</td>\n",
              "    </tr>\n",
              "    <tr>\n",
              "      <th>9039</th>\n",
              "      <td>Detroit</td>\n",
              "      <td>Office Supplies</td>\n",
              "      <td>Binders</td>\n",
              "      <td>GBC Ibimaster 500 Manual ProClick Binding System</td>\n",
              "      <td>9892.740</td>\n",
              "      <td>13</td>\n",
              "      <td>0.0</td>\n",
              "      <td>4946.3700</td>\n",
              "    </tr>\n",
              "    <tr>\n",
              "      <th>4098</th>\n",
              "      <td>Minneapolis</td>\n",
              "      <td>Office Supplies</td>\n",
              "      <td>Binders</td>\n",
              "      <td>Ibico EPK-21 Electric Binding System</td>\n",
              "      <td>9449.950</td>\n",
              "      <td>5</td>\n",
              "      <td>0.0</td>\n",
              "      <td>4630.4755</td>\n",
              "    </tr>\n",
              "    <tr>\n",
              "      <th>4277</th>\n",
              "      <td>Lakewood</td>\n",
              "      <td>Technology</td>\n",
              "      <td>Machines</td>\n",
              "      <td>3D Systems Cube Printer, 2nd Generation, Magenta</td>\n",
              "      <td>9099.930</td>\n",
              "      <td>7</td>\n",
              "      <td>0.0</td>\n",
              "      <td>2365.9818</td>\n",
              "    </tr>\n",
              "    <tr>\n",
              "      <th>8488</th>\n",
              "      <td>Arlington</td>\n",
              "      <td>Technology</td>\n",
              "      <td>Machines</td>\n",
              "      <td>HP Designjet T520 Inkjet Large Format Printer ...</td>\n",
              "      <td>8749.950</td>\n",
              "      <td>5</td>\n",
              "      <td>0.0</td>\n",
              "      <td>2799.9840</td>\n",
              "    </tr>\n",
              "    <tr>\n",
              "      <th>6425</th>\n",
              "      <td>Philadelphia</td>\n",
              "      <td>Technology</td>\n",
              "      <td>Copiers</td>\n",
              "      <td>Canon imageCLASS 2200 Advanced Copier</td>\n",
              "      <td>8399.976</td>\n",
              "      <td>4</td>\n",
              "      <td>0.4</td>\n",
              "      <td>1119.9968</td>\n",
              "    </tr>\n",
              "  </tbody>\n",
              "</table>\n",
              "</div>"
            ],
            "text/plain": [
              "               City         Category  ... Discount     Profit\n",
              "2697   Jacksonville       Technology  ...      0.5 -1811.0784\n",
              "6826      Lafayette       Technology  ...      0.0  8399.9760\n",
              "8153        Seattle       Technology  ...      0.0  6719.9808\n",
              "2623  New York City       Technology  ...      0.2  3919.9888\n",
              "4190         Newark       Technology  ...      0.0  5039.9856\n",
              "9039        Detroit  Office Supplies  ...      0.0  4946.3700\n",
              "4098    Minneapolis  Office Supplies  ...      0.0  4630.4755\n",
              "4277       Lakewood       Technology  ...      0.0  2365.9818\n",
              "8488      Arlington       Technology  ...      0.0  2799.9840\n",
              "6425   Philadelphia       Technology  ...      0.4  1119.9968\n",
              "\n",
              "[10 rows x 8 columns]"
            ]
          },
          "metadata": {
            "tags": []
          },
          "execution_count": 26
        }
      ]
    },
    {
      "cell_type": "markdown",
      "metadata": {
        "id": "p7WyK_zh-DaS"
      },
      "source": [
        "### View Bottom 10 Outlier Transactions"
      ]
    },
    {
      "cell_type": "code",
      "metadata": {
        "colab": {
          "base_uri": "https://localhost:8080/",
          "height": 359
        },
        "id": "qMCpc0au-DaT",
        "outputId": "77105485-d4ea-4ce9-ae25-0dbafe2be026"
      },
      "source": [
        "(df.loc[sales_outliers_sorted.index.tolist()][['City', 'Category', 'Sub-Category', 'Product Name', \n",
        "                                              'Sales', 'Quantity', 'Discount', 'Profit']]).tail(10)"
      ],
      "execution_count": 27,
      "outputs": [
        {
          "output_type": "execute_result",
          "data": {
            "text/html": [
              "<div>\n",
              "<style scoped>\n",
              "    .dataframe tbody tr th:only-of-type {\n",
              "        vertical-align: middle;\n",
              "    }\n",
              "\n",
              "    .dataframe tbody tr th {\n",
              "        vertical-align: top;\n",
              "    }\n",
              "\n",
              "    .dataframe thead th {\n",
              "        text-align: right;\n",
              "    }\n",
              "</style>\n",
              "<table border=\"1\" class=\"dataframe\">\n",
              "  <thead>\n",
              "    <tr style=\"text-align: right;\">\n",
              "      <th></th>\n",
              "      <th>City</th>\n",
              "      <th>Category</th>\n",
              "      <th>Sub-Category</th>\n",
              "      <th>Product Name</th>\n",
              "      <th>Sales</th>\n",
              "      <th>Quantity</th>\n",
              "      <th>Discount</th>\n",
              "      <th>Profit</th>\n",
              "    </tr>\n",
              "  </thead>\n",
              "  <tbody>\n",
              "    <tr>\n",
              "      <th>1805</th>\n",
              "      <td>Los Angeles</td>\n",
              "      <td>Technology</td>\n",
              "      <td>Phones</td>\n",
              "      <td>Samsung Galaxy Note 2</td>\n",
              "      <td>2575.944</td>\n",
              "      <td>7</td>\n",
              "      <td>0.2</td>\n",
              "      <td>257.5944</td>\n",
              "    </tr>\n",
              "    <tr>\n",
              "      <th>7474</th>\n",
              "      <td>Henderson</td>\n",
              "      <td>Furniture</td>\n",
              "      <td>Chairs</td>\n",
              "      <td>Global Deluxe High-Back Manager's Chair</td>\n",
              "      <td>2573.820</td>\n",
              "      <td>9</td>\n",
              "      <td>0.0</td>\n",
              "      <td>746.4078</td>\n",
              "    </tr>\n",
              "    <tr>\n",
              "      <th>6884</th>\n",
              "      <td>Minneapolis</td>\n",
              "      <td>Furniture</td>\n",
              "      <td>Chairs</td>\n",
              "      <td>Hon Pagoda Stacking Chairs</td>\n",
              "      <td>2567.840</td>\n",
              "      <td>8</td>\n",
              "      <td>0.0</td>\n",
              "      <td>770.3520</td>\n",
              "    </tr>\n",
              "    <tr>\n",
              "      <th>8271</th>\n",
              "      <td>New York City</td>\n",
              "      <td>Furniture</td>\n",
              "      <td>Chairs</td>\n",
              "      <td>Hon 4700 Series Mobuis Mid-Back Task Chairs wi...</td>\n",
              "      <td>2563.056</td>\n",
              "      <td>8</td>\n",
              "      <td>0.1</td>\n",
              "      <td>313.2624</td>\n",
              "    </tr>\n",
              "    <tr>\n",
              "      <th>3011</th>\n",
              "      <td>Louisville</td>\n",
              "      <td>Technology</td>\n",
              "      <td>Machines</td>\n",
              "      <td>Lexmark MX611dhe Monochrome Laser Printer</td>\n",
              "      <td>2549.985</td>\n",
              "      <td>5</td>\n",
              "      <td>0.7</td>\n",
              "      <td>-3399.9800</td>\n",
              "    </tr>\n",
              "    <tr>\n",
              "      <th>6010</th>\n",
              "      <td>Los Angeles</td>\n",
              "      <td>Technology</td>\n",
              "      <td>Machines</td>\n",
              "      <td>Zebra GX420t Direct Thermal/Thermal Transfer P...</td>\n",
              "      <td>2548.560</td>\n",
              "      <td>6</td>\n",
              "      <td>0.2</td>\n",
              "      <td>286.7130</td>\n",
              "    </tr>\n",
              "    <tr>\n",
              "      <th>7280</th>\n",
              "      <td>Columbia</td>\n",
              "      <td>Office Supplies</td>\n",
              "      <td>Binders</td>\n",
              "      <td>Fellowes PB500 Electric Punch Plastic Comb Bin...</td>\n",
              "      <td>2541.980</td>\n",
              "      <td>2</td>\n",
              "      <td>0.0</td>\n",
              "      <td>1270.9900</td>\n",
              "    </tr>\n",
              "    <tr>\n",
              "      <th>263</th>\n",
              "      <td>Houston</td>\n",
              "      <td>Technology</td>\n",
              "      <td>Machines</td>\n",
              "      <td>Xerox WorkCentre 6505DN Laser Multifunction Pr...</td>\n",
              "      <td>2519.958</td>\n",
              "      <td>7</td>\n",
              "      <td>0.4</td>\n",
              "      <td>-251.9958</td>\n",
              "    </tr>\n",
              "    <tr>\n",
              "      <th>7937</th>\n",
              "      <td>Brentwood</td>\n",
              "      <td>Office Supplies</td>\n",
              "      <td>Appliances</td>\n",
              "      <td>Sanyo 2.5 Cubic Foot Mid-Size Office Refrigera...</td>\n",
              "      <td>2518.290</td>\n",
              "      <td>9</td>\n",
              "      <td>0.0</td>\n",
              "      <td>654.7554</td>\n",
              "    </tr>\n",
              "    <tr>\n",
              "      <th>3443</th>\n",
              "      <td>New York City</td>\n",
              "      <td>Office Supplies</td>\n",
              "      <td>Appliances</td>\n",
              "      <td>Hoover Shoulder Vac Commercial Portable Vacuum</td>\n",
              "      <td>2504.740</td>\n",
              "      <td>7</td>\n",
              "      <td>0.0</td>\n",
              "      <td>626.1850</td>\n",
              "    </tr>\n",
              "  </tbody>\n",
              "</table>\n",
              "</div>"
            ],
            "text/plain": [
              "               City         Category  ... Discount     Profit\n",
              "1805    Los Angeles       Technology  ...      0.2   257.5944\n",
              "7474      Henderson        Furniture  ...      0.0   746.4078\n",
              "6884    Minneapolis        Furniture  ...      0.0   770.3520\n",
              "8271  New York City        Furniture  ...      0.1   313.2624\n",
              "3011     Louisville       Technology  ...      0.7 -3399.9800\n",
              "6010    Los Angeles       Technology  ...      0.2   286.7130\n",
              "7280       Columbia  Office Supplies  ...      0.0  1270.9900\n",
              "263         Houston       Technology  ...      0.4  -251.9958\n",
              "7937      Brentwood  Office Supplies  ...      0.0   654.7554\n",
              "3443  New York City  Office Supplies  ...      0.0   626.1850\n",
              "\n",
              "[10 rows x 8 columns]"
            ]
          },
          "metadata": {
            "tags": []
          },
          "execution_count": 27
        }
      ]
    },
    {
      "cell_type": "markdown",
      "metadata": {
        "id": "ykCb50dM-DaT"
      },
      "source": [
        "## Q 3.4: Univariate Anomaly Detection on Profit using Isolation Forest\n",
        "\n",
        "In this section you will use the learning from Section 3.3 and implement anomaly detecting using isolation on the __`Profit`__ attribute. Since we have both +ve (profits) and -ve (losses) values in the distribution, we will try to find anomalies for each."
      ]
    },
    {
      "cell_type": "markdown",
      "metadata": {
        "id": "bqtTJq-v-DaT"
      },
      "source": [
        "### Initialize and Train Model\n",
        "\n",
        "__Your Turn:__ Initialize the isolation forest model with similar hyperparameters as Section 3.3 and also assuming the proportion of outliers to be 1% of the total data (using the contamination setting)"
      ]
    },
    {
      "cell_type": "code",
      "metadata": {
        "colab": {
          "base_uri": "https://localhost:8080/"
        },
        "id": "Vz4vNQ18-DaT",
        "outputId": "7edc739b-f83e-4149-9d69-4f99230cc0b7"
      },
      "source": [
        "#<FILL BLANKS HERE>\n",
        "profit_ifmodel = IsolationForest(n_estimators=100,\n",
        "                                contamination=0.01)\n",
        "profit_ifmodel.fit(df[['Profit']])"
      ],
      "execution_count": 31,
      "outputs": [
        {
          "output_type": "execute_result",
          "data": {
            "text/plain": [
              "IsolationForest(behaviour='deprecated', bootstrap=False, contamination=0.01,\n",
              "                max_features=1.0, max_samples='auto', n_estimators=100,\n",
              "                n_jobs=None, random_state=None, verbose=0, warm_start=False)"
            ]
          },
          "metadata": {
            "tags": []
          },
          "execution_count": 31
        }
      ]
    },
    {
      "cell_type": "markdown",
      "metadata": {
        "id": "6iQF6e8Y-DaU"
      },
      "source": [
        "### Visualize Outlier Regions\n",
        "\n",
        "__Your turn:__ Visualize the upper and lower outlier regions in the distribution similar to what you did in 3.3"
      ]
    },
    {
      "cell_type": "code",
      "metadata": {
        "colab": {
          "base_uri": "https://localhost:8080/",
          "height": 388
        },
        "id": "DSzqVUc9-DaU",
        "outputId": "7a7677f0-3bd3-43d0-bc6c-30c136f2d8fd"
      },
      "source": [
        "#<FILL BLANKS HERE>\n",
        "xx = np.linspace(df['Profit'].min(), df['Profit'].max(), len(df)).reshape(-1,1)\n",
        "anomaly_score = profit_ifmodel.decision_function(xx)\n",
        "outlier = profit_ifmodel.predict(xx)\n",
        "plt.figure(figsize=(12, 6))\n",
        "plt.plot(xx, anomaly_score, label='anomaly score')\n",
        "plt.fill_between(xx.T[0], np.min(anomaly_score), np.max(anomaly_score), \n",
        "                 where=outlier==-1, color='r', \n",
        "                 alpha=.4, label='outlier region')\n",
        "plt.legend()\n",
        "plt.ylabel('anomaly score')\n",
        "plt.xlabel('Profit');"
      ],
      "execution_count": 32,
      "outputs": [
        {
          "output_type": "display_data",
          "data": {
            "image/png": "[encoded data removed]",
            "text/plain": [
              "<Figure size 864x432 with 1 Axes>"
            ]
          },
          "metadata": {
            "tags": [],
            "needs_background": "light"
          }
        }
      ]
    },
    {
      "cell_type": "markdown",
      "metadata": {
        "id": "VulI1V8A-DaU"
      },
      "source": [
        "### Filter and Sort Outliers\n",
        "\n",
        "__Your Turn:__ Predict outliers in our dataset using our trained model and filter out the outlier observations and sort by descending order and view the top 5 outlier values similar to 3.3"
      ]
    },
    {
      "cell_type": "code",
      "metadata": {
        "colab": {
          "base_uri": "https://localhost:8080/"
        },
        "id": "c1vgubfy-DaU",
        "outputId": "a8f4050c-3a89-44bb-a085-db63a7b0944c"
      },
      "source": [
        "#<FILL BLANKS HERE>\n",
        "outlier_predictions = profit_ifmodel.predict(df[['Profit']])\n",
        "\n",
        "profit_outliers_df = df[['Profit']]\n",
        "profit_outliers_df['Outlier'] = outlier_predictions\n",
        "profit_outliers_df = profit_outliers_df[profit_outliers_df['Outlier'] == -1]['Profit']\n",
        "\n",
        "print('Total Profit Outliers:', len(profit_outliers_df))\n",
        "profit_outliers_sorted = profit_outliers_df.sort_values(ascending=False)\n",
        "profit_outliers_sorted.head(5)"
      ],
      "execution_count": 33,
      "outputs": [
        {
          "output_type": "stream",
          "text": [
            "Total Profit Outliers: 100\n"
          ],
          "name": "stdout"
        },
        {
          "output_type": "execute_result",
          "data": {
            "text/plain": [
              "6826    8399.9760\n",
              "8153    6719.9808\n",
              "4190    5039.9856\n",
              "9039    4946.3700\n",
              "4098    4630.4755\n",
              "Name: Profit, dtype: float64"
            ]
          },
          "metadata": {
            "tags": []
          },
          "execution_count": 33
        }
      ]
    },
    {
      "cell_type": "markdown",
      "metadata": {
        "id": "qnF4ZJN0-DaU"
      },
      "source": [
        "### View Top 10 Outlier Transactions\n",
        "\n",
        "__Your turn:__ View the top ten transactions based on highest profits"
      ]
    },
    {
      "cell_type": "code",
      "metadata": {
        "colab": {
          "base_uri": "https://localhost:8080/",
          "height": 359
        },
        "id": "UvBNw5iE-DaV",
        "outputId": "ee8ec89a-7ef4-4855-feb8-66fe2f07f329"
      },
      "source": [
        "#<FILL BLANKS HERE>\n",
        "(df.loc[profit_outliers_sorted.index.tolist()][['City', 'Category', 'Sub-Category', 'Product Name', \n",
        "                                              'Sales', 'Quantity', 'Discount', 'Profit']]).head(10)"
      ],
      "execution_count": 37,
      "outputs": [
        {
          "output_type": "execute_result",
          "data": {
            "text/html": [
              "<div>\n",
              "<style scoped>\n",
              "    .dataframe tbody tr th:only-of-type {\n",
              "        vertical-align: middle;\n",
              "    }\n",
              "\n",
              "    .dataframe tbody tr th {\n",
              "        vertical-align: top;\n",
              "    }\n",
              "\n",
              "    .dataframe thead th {\n",
              "        text-align: right;\n",
              "    }\n",
              "</style>\n",
              "<table border=\"1\" class=\"dataframe\">\n",
              "  <thead>\n",
              "    <tr style=\"text-align: right;\">\n",
              "      <th></th>\n",
              "      <th>City</th>\n",
              "      <th>Category</th>\n",
              "      <th>Sub-Category</th>\n",
              "      <th>Product Name</th>\n",
              "      <th>Sales</th>\n",
              "      <th>Quantity</th>\n",
              "      <th>Discount</th>\n",
              "      <th>Profit</th>\n",
              "    </tr>\n",
              "  </thead>\n",
              "  <tbody>\n",
              "    <tr>\n",
              "      <th>6826</th>\n",
              "      <td>Lafayette</td>\n",
              "      <td>Technology</td>\n",
              "      <td>Copiers</td>\n",
              "      <td>Canon imageCLASS 2200 Advanced Copier</td>\n",
              "      <td>17499.950</td>\n",
              "      <td>5</td>\n",
              "      <td>0.0</td>\n",
              "      <td>8399.9760</td>\n",
              "    </tr>\n",
              "    <tr>\n",
              "      <th>8153</th>\n",
              "      <td>Seattle</td>\n",
              "      <td>Technology</td>\n",
              "      <td>Copiers</td>\n",
              "      <td>Canon imageCLASS 2200 Advanced Copier</td>\n",
              "      <td>13999.960</td>\n",
              "      <td>4</td>\n",
              "      <td>0.0</td>\n",
              "      <td>6719.9808</td>\n",
              "    </tr>\n",
              "    <tr>\n",
              "      <th>4190</th>\n",
              "      <td>Newark</td>\n",
              "      <td>Technology</td>\n",
              "      <td>Copiers</td>\n",
              "      <td>Canon imageCLASS 2200 Advanced Copier</td>\n",
              "      <td>10499.970</td>\n",
              "      <td>3</td>\n",
              "      <td>0.0</td>\n",
              "      <td>5039.9856</td>\n",
              "    </tr>\n",
              "    <tr>\n",
              "      <th>9039</th>\n",
              "      <td>Detroit</td>\n",
              "      <td>Office Supplies</td>\n",
              "      <td>Binders</td>\n",
              "      <td>GBC Ibimaster 500 Manual ProClick Binding System</td>\n",
              "      <td>9892.740</td>\n",
              "      <td>13</td>\n",
              "      <td>0.0</td>\n",
              "      <td>4946.3700</td>\n",
              "    </tr>\n",
              "    <tr>\n",
              "      <th>4098</th>\n",
              "      <td>Minneapolis</td>\n",
              "      <td>Office Supplies</td>\n",
              "      <td>Binders</td>\n",
              "      <td>Ibico EPK-21 Electric Binding System</td>\n",
              "      <td>9449.950</td>\n",
              "      <td>5</td>\n",
              "      <td>0.0</td>\n",
              "      <td>4630.4755</td>\n",
              "    </tr>\n",
              "    <tr>\n",
              "      <th>2623</th>\n",
              "      <td>New York City</td>\n",
              "      <td>Technology</td>\n",
              "      <td>Copiers</td>\n",
              "      <td>Canon imageCLASS 2200 Advanced Copier</td>\n",
              "      <td>11199.968</td>\n",
              "      <td>4</td>\n",
              "      <td>0.2</td>\n",
              "      <td>3919.9888</td>\n",
              "    </tr>\n",
              "    <tr>\n",
              "      <th>509</th>\n",
              "      <td>Atlanta</td>\n",
              "      <td>Office Supplies</td>\n",
              "      <td>Binders</td>\n",
              "      <td>Fellowes PB500 Electric Punch Plastic Comb Bin...</td>\n",
              "      <td>6354.950</td>\n",
              "      <td>5</td>\n",
              "      <td>0.0</td>\n",
              "      <td>3177.4750</td>\n",
              "    </tr>\n",
              "    <tr>\n",
              "      <th>8488</th>\n",
              "      <td>Arlington</td>\n",
              "      <td>Technology</td>\n",
              "      <td>Machines</td>\n",
              "      <td>HP Designjet T520 Inkjet Large Format Printer ...</td>\n",
              "      <td>8749.950</td>\n",
              "      <td>5</td>\n",
              "      <td>0.0</td>\n",
              "      <td>2799.9840</td>\n",
              "    </tr>\n",
              "    <tr>\n",
              "      <th>7666</th>\n",
              "      <td>Providence</td>\n",
              "      <td>Technology</td>\n",
              "      <td>Copiers</td>\n",
              "      <td>Hewlett Packard LaserJet 3310 Copier</td>\n",
              "      <td>5399.910</td>\n",
              "      <td>9</td>\n",
              "      <td>0.0</td>\n",
              "      <td>2591.9568</td>\n",
              "    </tr>\n",
              "    <tr>\n",
              "      <th>6520</th>\n",
              "      <td>Jackson</td>\n",
              "      <td>Office Supplies</td>\n",
              "      <td>Binders</td>\n",
              "      <td>GBC DocuBind P400 Electric Binding System</td>\n",
              "      <td>5443.960</td>\n",
              "      <td>4</td>\n",
              "      <td>0.0</td>\n",
              "      <td>2504.2216</td>\n",
              "    </tr>\n",
              "  </tbody>\n",
              "</table>\n",
              "</div>"
            ],
            "text/plain": [
              "               City         Category  ... Discount     Profit\n",
              "6826      Lafayette       Technology  ...      0.0  8399.9760\n",
              "8153        Seattle       Technology  ...      0.0  6719.9808\n",
              "4190         Newark       Technology  ...      0.0  5039.9856\n",
              "9039        Detroit  Office Supplies  ...      0.0  4946.3700\n",
              "4098    Minneapolis  Office Supplies  ...      0.0  4630.4755\n",
              "2623  New York City       Technology  ...      0.2  3919.9888\n",
              "509         Atlanta  Office Supplies  ...      0.0  3177.4750\n",
              "8488      Arlington       Technology  ...      0.0  2799.9840\n",
              "7666     Providence       Technology  ...      0.0  2591.9568\n",
              "6520        Jackson  Office Supplies  ...      0.0  2504.2216\n",
              "\n",
              "[10 rows x 8 columns]"
            ]
          },
          "metadata": {
            "tags": []
          },
          "execution_count": 37
        }
      ]
    },
    {
      "cell_type": "markdown",
      "metadata": {
        "id": "FqQNXFyr-DaV"
      },
      "source": [
        "### View Bottom 10 Outlier Transactions\n",
        "\n",
        "__Your turn:__ View the bottom ten transactions based on lowest profits (highest losses)"
      ]
    },
    {
      "cell_type": "code",
      "metadata": {
        "colab": {
          "base_uri": "https://localhost:8080/",
          "height": 359
        },
        "id": "iqrhbRm2-DaV",
        "outputId": "59e09eb2-021a-48c0-c6ba-6e4bd3807cb2"
      },
      "source": [
        "#<FILL BLANKS HERE>\n",
        "(df.loc[profit_outliers_sorted.index.tolist()][['City', 'Category', 'Sub-Category', 'Product Name', \n",
        "                                              'Sales', 'Quantity', 'Discount', 'Profit']]).tail(10)"
      ],
      "execution_count": 38,
      "outputs": [
        {
          "output_type": "execute_result",
          "data": {
            "text/html": [
              "<div>\n",
              "<style scoped>\n",
              "    .dataframe tbody tr th:only-of-type {\n",
              "        vertical-align: middle;\n",
              "    }\n",
              "\n",
              "    .dataframe tbody tr th {\n",
              "        vertical-align: top;\n",
              "    }\n",
              "\n",
              "    .dataframe thead th {\n",
              "        text-align: right;\n",
              "    }\n",
              "</style>\n",
              "<table border=\"1\" class=\"dataframe\">\n",
              "  <thead>\n",
              "    <tr style=\"text-align: right;\">\n",
              "      <th></th>\n",
              "      <th>City</th>\n",
              "      <th>Category</th>\n",
              "      <th>Sub-Category</th>\n",
              "      <th>Product Name</th>\n",
              "      <th>Sales</th>\n",
              "      <th>Quantity</th>\n",
              "      <th>Discount</th>\n",
              "      <th>Profit</th>\n",
              "    </tr>\n",
              "  </thead>\n",
              "  <tbody>\n",
              "    <tr>\n",
              "      <th>2697</th>\n",
              "      <td>Jacksonville</td>\n",
              "      <td>Technology</td>\n",
              "      <td>Machines</td>\n",
              "      <td>Cisco TelePresence System EX90 Videoconferenci...</td>\n",
              "      <td>22638.480</td>\n",
              "      <td>6</td>\n",
              "      <td>0.5</td>\n",
              "      <td>-1811.0784</td>\n",
              "    </tr>\n",
              "    <tr>\n",
              "      <th>1199</th>\n",
              "      <td>Houston</td>\n",
              "      <td>Office Supplies</td>\n",
              "      <td>Binders</td>\n",
              "      <td>GBC DocuBind P400 Electric Binding System</td>\n",
              "      <td>1088.792</td>\n",
              "      <td>4</td>\n",
              "      <td>0.8</td>\n",
              "      <td>-1850.9464</td>\n",
              "    </tr>\n",
              "    <tr>\n",
              "      <th>9639</th>\n",
              "      <td>Concord</td>\n",
              "      <td>Furniture</td>\n",
              "      <td>Tables</td>\n",
              "      <td>Chromcraft Bull-Nose Wood Oval Conference Tabl...</td>\n",
              "      <td>4297.644</td>\n",
              "      <td>13</td>\n",
              "      <td>0.4</td>\n",
              "      <td>-1862.3124</td>\n",
              "    </tr>\n",
              "    <tr>\n",
              "      <th>5310</th>\n",
              "      <td>Houston</td>\n",
              "      <td>Office Supplies</td>\n",
              "      <td>Binders</td>\n",
              "      <td>Fellowes PB500 Electric Punch Plastic Comb Bin...</td>\n",
              "      <td>1525.188</td>\n",
              "      <td>6</td>\n",
              "      <td>0.8</td>\n",
              "      <td>-2287.7820</td>\n",
              "    </tr>\n",
              "    <tr>\n",
              "      <th>3151</th>\n",
              "      <td>Newark</td>\n",
              "      <td>Technology</td>\n",
              "      <td>Machines</td>\n",
              "      <td>Cubify CubeX 3D Printer Double Head Print</td>\n",
              "      <td>1799.994</td>\n",
              "      <td>2</td>\n",
              "      <td>0.7</td>\n",
              "      <td>-2639.9912</td>\n",
              "    </tr>\n",
              "    <tr>\n",
              "      <th>4991</th>\n",
              "      <td>Chicago</td>\n",
              "      <td>Office Supplies</td>\n",
              "      <td>Binders</td>\n",
              "      <td>Ibico EPK-21 Electric Binding System</td>\n",
              "      <td>1889.990</td>\n",
              "      <td>5</td>\n",
              "      <td>0.8</td>\n",
              "      <td>-2929.4845</td>\n",
              "    </tr>\n",
              "    <tr>\n",
              "      <th>3011</th>\n",
              "      <td>Louisville</td>\n",
              "      <td>Technology</td>\n",
              "      <td>Machines</td>\n",
              "      <td>Lexmark MX611dhe Monochrome Laser Printer</td>\n",
              "      <td>2549.985</td>\n",
              "      <td>5</td>\n",
              "      <td>0.7</td>\n",
              "      <td>-3399.9800</td>\n",
              "    </tr>\n",
              "    <tr>\n",
              "      <th>9774</th>\n",
              "      <td>San Antonio</td>\n",
              "      <td>Office Supplies</td>\n",
              "      <td>Binders</td>\n",
              "      <td>GBC DocuBind P400 Electric Binding System</td>\n",
              "      <td>2177.584</td>\n",
              "      <td>8</td>\n",
              "      <td>0.8</td>\n",
              "      <td>-3701.8928</td>\n",
              "    </tr>\n",
              "    <tr>\n",
              "      <th>683</th>\n",
              "      <td>Burlington</td>\n",
              "      <td>Technology</td>\n",
              "      <td>Machines</td>\n",
              "      <td>Cubify CubeX 3D Printer Triple Head Print</td>\n",
              "      <td>7999.980</td>\n",
              "      <td>4</td>\n",
              "      <td>0.5</td>\n",
              "      <td>-3839.9904</td>\n",
              "    </tr>\n",
              "    <tr>\n",
              "      <th>7772</th>\n",
              "      <td>Lancaster</td>\n",
              "      <td>Technology</td>\n",
              "      <td>Machines</td>\n",
              "      <td>Cubify CubeX 3D Printer Double Head Print</td>\n",
              "      <td>4499.985</td>\n",
              "      <td>5</td>\n",
              "      <td>0.7</td>\n",
              "      <td>-6599.9780</td>\n",
              "    </tr>\n",
              "  </tbody>\n",
              "</table>\n",
              "</div>"
            ],
            "text/plain": [
              "              City         Category Sub-Category  ... Quantity  Discount     Profit\n",
              "2697  Jacksonville       Technology     Machines  ...        6       0.5 -1811.0784\n",
              "1199       Houston  Office Supplies      Binders  ...        4       0.8 -1850.9464\n",
              "9639       Concord        Furniture       Tables  ...       13       0.4 -1862.3124\n",
              "5310       Houston  Office Supplies      Binders  ...        6       0.8 -2287.7820\n",
              "3151        Newark       Technology     Machines  ...        2       0.7 -2639.9912\n",
              "4991       Chicago  Office Supplies      Binders  ...        5       0.8 -2929.4845\n",
              "3011    Louisville       Technology     Machines  ...        5       0.7 -3399.9800\n",
              "9774   San Antonio  Office Supplies      Binders  ...        8       0.8 -3701.8928\n",
              "683     Burlington       Technology     Machines  ...        4       0.5 -3839.9904\n",
              "7772     Lancaster       Technology     Machines  ...        5       0.7 -6599.9780\n",
              "\n",
              "[10 rows x 8 columns]"
            ]
          },
          "metadata": {
            "tags": []
          },
          "execution_count": 38
        }
      ]
    },
    {
      "cell_type": "markdown",
      "metadata": {
        "id": "t-opdvNs-DaV"
      },
      "source": [
        "### Q: Do you observe any similarity in the results with the previous method?"
      ]
    },
    {
      "cell_type": "markdown",
      "metadata": {
        "id": "utLMDIzp-DaW"
      },
      "source": [
        "__A:__ Yes"
      ]
    },
    {
      "cell_type": "markdown",
      "metadata": {
        "id": "I4CpO5Jh-DaW"
      },
      "source": [
        "Another interesting approach to check out would be the [Generalized ESD Test for Outliers](https://www.itl.nist.gov/div898/handbook/eda/section3/eda35h3.htm)\n",
        "\n"
      ]
    },
    {
      "cell_type": "markdown",
      "metadata": {
        "id": "sHZaqt5O-DaW"
      },
      "source": [
        "# 4. Multivariate Anomaly Detection\n",
        "\n",
        "Multivariate is basically analysis done on more than one attribute or feature at a time. In this section, we will perform anomaly detection on two attributes (__`Discount`__ & __`Profit`__) using the following methods.\n",
        "\n",
        "- Clustering Based Local Outlier Factor (CBLOF)\n",
        "- Isolation Forest\n",
        "- Auto-Encoders\n",
        "\n",
        "You will learn how to train these models to detect outliers and also visualize these outliers. For this section we will be using the __[`pyod`](https://pyod.readthedocs.io/en/latest/)__ package so make sure you have it installed."
      ]
    },
    {
      "cell_type": "code",
      "metadata": {
        "colab": {
          "base_uri": "https://localhost:8080/"
        },
        "id": "bb7dLUNo-DaW",
        "outputId": "71c216b9-138c-4ae1-b426-206e4f1e5100"
      },
      "source": [
        "!pip install pyod"
      ],
      "execution_count": 39,
      "outputs": [
        {
          "output_type": "stream",
          "text": [
            "Collecting pyod\n",
            "\u001b[?25l  Downloading https://files.pythonhosted.org/packages/37/50/94ac3c301b06e291ce52938e4a037b147cf01b40ff458dea5441ac42addf/pyod-0.8.7.tar.gz (101kB)\n",
            "\r\u001b[K     |███▎                            | 10kB 11.6MB/s eta 0:00:01\r\u001b[K     |██████▌                         | 20kB 17.5MB/s eta 0:00:01\r\u001b[K     |█████████▊                      | 30kB 11.8MB/s eta 0:00:01\r\u001b[K     |█████████████                   | 40kB 10.7MB/s eta 0:00:01\r\u001b[K     |████████████████▏               | 51kB 7.9MB/s eta 0:00:01\r\u001b[K     |███████████████████▍            | 61kB 7.7MB/s eta 0:00:01\r\u001b[K     |██████████████████████▊         | 71kB 8.4MB/s eta 0:00:01\r\u001b[K     |██████████████████████████      | 81kB 8.4MB/s eta 0:00:01\r\u001b[K     |█████████████████████████████▏  | 92kB 8.0MB/s eta 0:00:01\r\u001b[K     |████████████████████████████████| 102kB 4.8MB/s \n",
            "\u001b[?25hRequirement already satisfied: joblib in /usr/local/lib/python3.7/dist-packages (from pyod) (1.0.1)\n",
            "Requirement already satisfied: matplotlib in /usr/local/lib/python3.7/dist-packages (from pyod) (3.2.2)\n",
            "Requirement already satisfied: numpy>=1.13 in /usr/local/lib/python3.7/dist-packages (from pyod) (1.19.5)\n",
            "Requirement already satisfied: numba>=0.35 in /usr/local/lib/python3.7/dist-packages (from pyod) (0.51.2)\n",
            "Requirement already satisfied: pandas>=0.25 in /usr/local/lib/python3.7/dist-packages (from pyod) (1.1.5)\n",
            "Requirement already satisfied: scipy>=0.19.1 in /usr/local/lib/python3.7/dist-packages (from pyod) (1.4.1)\n",
            "Requirement already satisfied: scikit_learn>=0.19.1 in /usr/local/lib/python3.7/dist-packages (from pyod) (0.22.2.post1)\n",
            "Requirement already satisfied: six in /usr/local/lib/python3.7/dist-packages (from pyod) (1.15.0)\n",
            "Requirement already satisfied: statsmodels in /usr/local/lib/python3.7/dist-packages (from pyod) (0.10.2)\n",
            "Requirement already satisfied: pyparsing!=2.0.4,!=2.1.2,!=2.1.6,>=2.0.1 in /usr/local/lib/python3.7/dist-packages (from matplotlib->pyod) (2.4.7)\n",
            "Requirement already satisfied: cycler>=0.10 in /usr/local/lib/python3.7/dist-packages (from matplotlib->pyod) (0.10.0)\n",
            "Requirement already satisfied: python-dateutil>=2.1 in /usr/local/lib/python3.7/dist-packages (from matplotlib->pyod) (2.8.1)\n",
            "Requirement already satisfied: kiwisolver>=1.0.1 in /usr/local/lib/python3.7/dist-packages (from matplotlib->pyod) (1.3.1)\n",
            "Requirement already satisfied: llvmlite<0.35,>=0.34.0.dev0 in /usr/local/lib/python3.7/dist-packages (from numba>=0.35->pyod) (0.34.0)\n",
            "Requirement already satisfied: setuptools in /usr/local/lib/python3.7/dist-packages (from numba>=0.35->pyod) (54.1.2)\n",
            "Requirement already satisfied: pytz>=2017.2 in /usr/local/lib/python3.7/dist-packages (from pandas>=0.25->pyod) (2018.9)\n",
            "Requirement already satisfied: patsy>=0.4.0 in /usr/local/lib/python3.7/dist-packages (from statsmodels->pyod) (0.5.1)\n",
            "Building wheels for collected packages: pyod\n",
            "  Building wheel for pyod (setup.py) ... \u001b[?25l\u001b[?25hdone\n",
            "  Created wheel for pyod: filename=pyod-0.8.7-cp37-none-any.whl size=115979 sha256=5826ebc647504920ca8fb9465511bd68433e5b860a6b54b245bd44a7b57dfdbb\n",
            "  Stored in directory: /root/.cache/pip/wheels/b7/8a/c9/5fe3f32692ad445fe573cf5b953d7a0d55dc1f7c8e229ebda0\n",
            "Successfully built pyod\n",
            "Installing collected packages: pyod\n",
            "Successfully installed pyod-0.8.7\n"
          ],
          "name": "stdout"
        }
      ]
    },
    {
      "cell_type": "markdown",
      "metadata": {
        "id": "7DNM6g8W-DaW"
      },
      "source": [
        "## Extract Subset Data for Outlier Detection"
      ]
    },
    {
      "cell_type": "code",
      "metadata": {
        "colab": {
          "base_uri": "https://localhost:8080/",
          "height": 204
        },
        "id": "0preKSwl-DaX",
        "outputId": "1cb410f1-9532-470d-d6ed-d4df474e7ab4"
      },
      "source": [
        "cols = ['Discount', 'Profit']\n",
        "subset_df = df[cols]\n",
        "subset_df.head()"
      ],
      "execution_count": 40,
      "outputs": [
        {
          "output_type": "execute_result",
          "data": {
            "text/html": [
              "<div>\n",
              "<style scoped>\n",
              "    .dataframe tbody tr th:only-of-type {\n",
              "        vertical-align: middle;\n",
              "    }\n",
              "\n",
              "    .dataframe tbody tr th {\n",
              "        vertical-align: top;\n",
              "    }\n",
              "\n",
              "    .dataframe thead th {\n",
              "        text-align: right;\n",
              "    }\n",
              "</style>\n",
              "<table border=\"1\" class=\"dataframe\">\n",
              "  <thead>\n",
              "    <tr style=\"text-align: right;\">\n",
              "      <th></th>\n",
              "      <th>Discount</th>\n",
              "      <th>Profit</th>\n",
              "    </tr>\n",
              "  </thead>\n",
              "  <tbody>\n",
              "    <tr>\n",
              "      <th>0</th>\n",
              "      <td>0.00</td>\n",
              "      <td>41.9136</td>\n",
              "    </tr>\n",
              "    <tr>\n",
              "      <th>1</th>\n",
              "      <td>0.00</td>\n",
              "      <td>219.5820</td>\n",
              "    </tr>\n",
              "    <tr>\n",
              "      <th>2</th>\n",
              "      <td>0.00</td>\n",
              "      <td>6.8714</td>\n",
              "    </tr>\n",
              "    <tr>\n",
              "      <th>3</th>\n",
              "      <td>0.45</td>\n",
              "      <td>-383.0310</td>\n",
              "    </tr>\n",
              "    <tr>\n",
              "      <th>4</th>\n",
              "      <td>0.20</td>\n",
              "      <td>2.5164</td>\n",
              "    </tr>\n",
              "  </tbody>\n",
              "</table>\n",
              "</div>"
            ],
            "text/plain": [
              "   Discount    Profit\n",
              "0      0.00   41.9136\n",
              "1      0.00  219.5820\n",
              "2      0.00    6.8714\n",
              "3      0.45 -383.0310\n",
              "4      0.20    2.5164"
            ]
          },
          "metadata": {
            "tags": []
          },
          "execution_count": 40
        }
      ]
    },
    {
      "cell_type": "markdown",
      "metadata": {
        "id": "Z8My_ET3-DaX"
      },
      "source": [
        "## Feature Scaling"
      ]
    },
    {
      "cell_type": "code",
      "metadata": {
        "colab": {
          "base_uri": "https://localhost:8080/",
          "height": 204
        },
        "id": "rV1Lmnd6-DaX",
        "outputId": "59254129-32dd-45a2-c813-b36112f38420"
      },
      "source": [
        "from sklearn.preprocessing import MinMaxScaler\n",
        "\n",
        "mms = MinMaxScaler(feature_range=(0, 1))\n",
        "subset_df[cols] = mms.fit_transform(subset_df)\n",
        "subset_df.head()"
      ],
      "execution_count": 41,
      "outputs": [
        {
          "output_type": "execute_result",
          "data": {
            "text/html": [
              "<div>\n",
              "<style scoped>\n",
              "    .dataframe tbody tr th:only-of-type {\n",
              "        vertical-align: middle;\n",
              "    }\n",
              "\n",
              "    .dataframe tbody tr th {\n",
              "        vertical-align: top;\n",
              "    }\n",
              "\n",
              "    .dataframe thead th {\n",
              "        text-align: right;\n",
              "    }\n",
              "</style>\n",
              "<table border=\"1\" class=\"dataframe\">\n",
              "  <thead>\n",
              "    <tr style=\"text-align: right;\">\n",
              "      <th></th>\n",
              "      <th>Discount</th>\n",
              "      <th>Profit</th>\n",
              "    </tr>\n",
              "  </thead>\n",
              "  <tbody>\n",
              "    <tr>\n",
              "      <th>0</th>\n",
              "      <td>0.0000</td>\n",
              "      <td>0.442794</td>\n",
              "    </tr>\n",
              "    <tr>\n",
              "      <th>1</th>\n",
              "      <td>0.0000</td>\n",
              "      <td>0.454639</td>\n",
              "    </tr>\n",
              "    <tr>\n",
              "      <th>2</th>\n",
              "      <td>0.0000</td>\n",
              "      <td>0.440458</td>\n",
              "    </tr>\n",
              "    <tr>\n",
              "      <th>3</th>\n",
              "      <td>0.5625</td>\n",
              "      <td>0.414464</td>\n",
              "    </tr>\n",
              "    <tr>\n",
              "      <th>4</th>\n",
              "      <td>0.2500</td>\n",
              "      <td>0.440168</td>\n",
              "    </tr>\n",
              "  </tbody>\n",
              "</table>\n",
              "</div>"
            ],
            "text/plain": [
              "   Discount    Profit\n",
              "0    0.0000  0.442794\n",
              "1    0.0000  0.454639\n",
              "2    0.0000  0.440458\n",
              "3    0.5625  0.414464\n",
              "4    0.2500  0.440168"
            ]
          },
          "metadata": {
            "tags": []
          },
          "execution_count": 41
        }
      ]
    },
    {
      "cell_type": "markdown",
      "metadata": {
        "id": "K8WjQ-U0-DaX"
      },
      "source": [
        "## 4.1: Multivariate Anomaly Detection with Clustering Based Local Outlier Factor (CBLOF)\n",
        "\n",
        "The CBLOF model takes as an input the dataset and the cluster model that was generated by a clustering algorithm. It classifies the clusters into small clusters and large clusters using the parameters alpha and beta. The anomaly score is then calculated based on the size of the cluster the point belongs to as well as the distance to the nearest large cluster.\n",
        "\n",
        "By default, kMeans is used for clustering algorithm. You can read more in the [official documentation](https://pyod.readthedocs.io/en/latest/pyod.models.html#module-pyod.models.cblof)"
      ]
    },
    {
      "cell_type": "markdown",
      "metadata": {
        "id": "l9gjdIF8-DaX"
      },
      "source": [
        "### Initialize and Train Model\n",
        "\n",
        "Here we initialize the CBLOF model with some hyperparameters assuming the proportion of outliers to be 1% of the total data (using the `contamination` setting)"
      ]
    },
    {
      "cell_type": "code",
      "metadata": {
        "colab": {
          "base_uri": "https://localhost:8080/"
        },
        "id": "e_JMe19u-DaY",
        "outputId": "e580fd33-6784-456b-b870-7f94c574846b"
      },
      "source": [
        "from pyod.models import cblof\n",
        "\n",
        "cblof_model = cblof.CBLOF(contamination=0.01, random_state=42)\n",
        "cblof_model.fit(subset_df)"
      ],
      "execution_count": 42,
      "outputs": [
        {
          "output_type": "execute_result",
          "data": {
            "text/plain": [
              "CBLOF(alpha=0.9, beta=5, check_estimator=False, clustering_estimator=None,\n",
              "   contamination=0.01, n_clusters=8, n_jobs=1, random_state=42,\n",
              "   use_weights=False)"
            ]
          },
          "metadata": {
            "tags": []
          },
          "execution_count": 42
        }
      ]
    },
    {
      "cell_type": "markdown",
      "metadata": {
        "id": "NSRNlYzU-DaY"
      },
      "source": [
        "### Filter and Sort Outliers\n",
        "\n",
        "Here we predict outliers in our dataset using our trained model and filter out the outlier observations and sort by descending order and view the top 5 outlier values"
      ]
    },
    {
      "cell_type": "code",
      "metadata": {
        "colab": {
          "base_uri": "https://localhost:8080/",
          "height": 221
        },
        "id": "Ghje1Ynd-DaY",
        "outputId": "a4f14125-2deb-404e-86e8-ae27fefbcfe0"
      },
      "source": [
        "outlier_predictions = cblof_model.predict(subset_df)\n",
        "\n",
        "outliers_df = subset_df.copy(deep=True)\n",
        "outliers_df['Outlier'] = outlier_predictions\n",
        "outliers_df = outliers_df[outliers_df['Outlier'] == 1]\n",
        "\n",
        "print('Total Outliers:', len(outliers_df))\n",
        "outliers_sorted = outliers_df.sort_values(by=['Profit', 'Discount'], ascending=False)\n",
        "outliers_sorted.head(5)"
      ],
      "execution_count": 43,
      "outputs": [
        {
          "output_type": "stream",
          "text": [
            "Total Outliers: 100\n"
          ],
          "name": "stdout"
        },
        {
          "output_type": "execute_result",
          "data": {
            "text/html": [
              "<div>\n",
              "<style scoped>\n",
              "    .dataframe tbody tr th:only-of-type {\n",
              "        vertical-align: middle;\n",
              "    }\n",
              "\n",
              "    .dataframe tbody tr th {\n",
              "        vertical-align: top;\n",
              "    }\n",
              "\n",
              "    .dataframe thead th {\n",
              "        text-align: right;\n",
              "    }\n",
              "</style>\n",
              "<table border=\"1\" class=\"dataframe\">\n",
              "  <thead>\n",
              "    <tr style=\"text-align: right;\">\n",
              "      <th></th>\n",
              "      <th>Discount</th>\n",
              "      <th>Profit</th>\n",
              "      <th>Outlier</th>\n",
              "    </tr>\n",
              "  </thead>\n",
              "  <tbody>\n",
              "    <tr>\n",
              "      <th>6826</th>\n",
              "      <td>0.0</td>\n",
              "      <td>1.000000</td>\n",
              "      <td>1</td>\n",
              "    </tr>\n",
              "    <tr>\n",
              "      <th>8153</th>\n",
              "      <td>0.0</td>\n",
              "      <td>0.888000</td>\n",
              "      <td>1</td>\n",
              "    </tr>\n",
              "    <tr>\n",
              "      <th>4190</th>\n",
              "      <td>0.0</td>\n",
              "      <td>0.776000</td>\n",
              "      <td>1</td>\n",
              "    </tr>\n",
              "    <tr>\n",
              "      <th>9039</th>\n",
              "      <td>0.0</td>\n",
              "      <td>0.769759</td>\n",
              "      <td>1</td>\n",
              "    </tr>\n",
              "    <tr>\n",
              "      <th>4098</th>\n",
              "      <td>0.0</td>\n",
              "      <td>0.748699</td>\n",
              "      <td>1</td>\n",
              "    </tr>\n",
              "  </tbody>\n",
              "</table>\n",
              "</div>"
            ],
            "text/plain": [
              "      Discount    Profit  Outlier\n",
              "6826       0.0  1.000000        1\n",
              "8153       0.0  0.888000        1\n",
              "4190       0.0  0.776000        1\n",
              "9039       0.0  0.769759        1\n",
              "4098       0.0  0.748699        1"
            ]
          },
          "metadata": {
            "tags": []
          },
          "execution_count": 43
        }
      ]
    },
    {
      "cell_type": "markdown",
      "metadata": {
        "id": "GBzPw00l-DaY"
      },
      "source": [
        "### View Bottom 10 Outlier Transactions"
      ]
    },
    {
      "cell_type": "code",
      "metadata": {
        "colab": {
          "base_uri": "https://localhost:8080/",
          "height": 359
        },
        "id": "LEiF9fv_-DaZ",
        "outputId": "4a93d2ba-87c9-43a1-e0e4-f14aef78c9ba"
      },
      "source": [
        "(df.loc[outliers_sorted.index.tolist()][['City', 'Category', 'Sub-Category', 'Product Name', \n",
        "                                              'Sales', 'Quantity', 'Discount', 'Profit']]).tail(10)"
      ],
      "execution_count": 44,
      "outputs": [
        {
          "output_type": "execute_result",
          "data": {
            "text/html": [
              "<div>\n",
              "<style scoped>\n",
              "    .dataframe tbody tr th:only-of-type {\n",
              "        vertical-align: middle;\n",
              "    }\n",
              "\n",
              "    .dataframe tbody tr th {\n",
              "        vertical-align: top;\n",
              "    }\n",
              "\n",
              "    .dataframe thead th {\n",
              "        text-align: right;\n",
              "    }\n",
              "</style>\n",
              "<table border=\"1\" class=\"dataframe\">\n",
              "  <thead>\n",
              "    <tr style=\"text-align: right;\">\n",
              "      <th></th>\n",
              "      <th>City</th>\n",
              "      <th>Category</th>\n",
              "      <th>Sub-Category</th>\n",
              "      <th>Product Name</th>\n",
              "      <th>Sales</th>\n",
              "      <th>Quantity</th>\n",
              "      <th>Discount</th>\n",
              "      <th>Profit</th>\n",
              "    </tr>\n",
              "  </thead>\n",
              "  <tbody>\n",
              "    <tr>\n",
              "      <th>463</th>\n",
              "      <td>Phoenix</td>\n",
              "      <td>Furniture</td>\n",
              "      <td>Tables</td>\n",
              "      <td>Bush Advantage Collection Racetrack Conference...</td>\n",
              "      <td>1272.630</td>\n",
              "      <td>6</td>\n",
              "      <td>0.5</td>\n",
              "      <td>-814.4832</td>\n",
              "    </tr>\n",
              "    <tr>\n",
              "      <th>4128</th>\n",
              "      <td>Charlotte</td>\n",
              "      <td>Technology</td>\n",
              "      <td>Machines</td>\n",
              "      <td>HP Designjet T520 Inkjet Large Format Printer ...</td>\n",
              "      <td>2624.985</td>\n",
              "      <td>3</td>\n",
              "      <td>0.5</td>\n",
              "      <td>-944.9946</td>\n",
              "    </tr>\n",
              "    <tr>\n",
              "      <th>8993</th>\n",
              "      <td>Columbia</td>\n",
              "      <td>Furniture</td>\n",
              "      <td>Tables</td>\n",
              "      <td>Balt Solid Wood Round Tables</td>\n",
              "      <td>1875.258</td>\n",
              "      <td>7</td>\n",
              "      <td>0.4</td>\n",
              "      <td>-968.8833</td>\n",
              "    </tr>\n",
              "    <tr>\n",
              "      <th>5320</th>\n",
              "      <td>Knoxville</td>\n",
              "      <td>Furniture</td>\n",
              "      <td>Tables</td>\n",
              "      <td>Chromcraft Bull-Nose Wood Oval Conference Tabl...</td>\n",
              "      <td>2314.116</td>\n",
              "      <td>7</td>\n",
              "      <td>0.4</td>\n",
              "      <td>-1002.7836</td>\n",
              "    </tr>\n",
              "    <tr>\n",
              "      <th>165</th>\n",
              "      <td>San Antonio</td>\n",
              "      <td>Technology</td>\n",
              "      <td>Machines</td>\n",
              "      <td>Lexmark MX611dhe Monochrome Laser Printer</td>\n",
              "      <td>8159.952</td>\n",
              "      <td>8</td>\n",
              "      <td>0.4</td>\n",
              "      <td>-1359.9920</td>\n",
              "    </tr>\n",
              "    <tr>\n",
              "      <th>27</th>\n",
              "      <td>Philadelphia</td>\n",
              "      <td>Furniture</td>\n",
              "      <td>Bookcases</td>\n",
              "      <td>Riverside Palais Royal Lawyers Bookcase, Royal...</td>\n",
              "      <td>3083.430</td>\n",
              "      <td>7</td>\n",
              "      <td>0.5</td>\n",
              "      <td>-1665.0522</td>\n",
              "    </tr>\n",
              "    <tr>\n",
              "      <th>2697</th>\n",
              "      <td>Jacksonville</td>\n",
              "      <td>Technology</td>\n",
              "      <td>Machines</td>\n",
              "      <td>Cisco TelePresence System EX90 Videoconferenci...</td>\n",
              "      <td>22638.480</td>\n",
              "      <td>6</td>\n",
              "      <td>0.5</td>\n",
              "      <td>-1811.0784</td>\n",
              "    </tr>\n",
              "    <tr>\n",
              "      <th>9639</th>\n",
              "      <td>Concord</td>\n",
              "      <td>Furniture</td>\n",
              "      <td>Tables</td>\n",
              "      <td>Chromcraft Bull-Nose Wood Oval Conference Tabl...</td>\n",
              "      <td>4297.644</td>\n",
              "      <td>13</td>\n",
              "      <td>0.4</td>\n",
              "      <td>-1862.3124</td>\n",
              "    </tr>\n",
              "    <tr>\n",
              "      <th>683</th>\n",
              "      <td>Burlington</td>\n",
              "      <td>Technology</td>\n",
              "      <td>Machines</td>\n",
              "      <td>Cubify CubeX 3D Printer Triple Head Print</td>\n",
              "      <td>7999.980</td>\n",
              "      <td>4</td>\n",
              "      <td>0.5</td>\n",
              "      <td>-3839.9904</td>\n",
              "    </tr>\n",
              "    <tr>\n",
              "      <th>7772</th>\n",
              "      <td>Lancaster</td>\n",
              "      <td>Technology</td>\n",
              "      <td>Machines</td>\n",
              "      <td>Cubify CubeX 3D Printer Double Head Print</td>\n",
              "      <td>4499.985</td>\n",
              "      <td>5</td>\n",
              "      <td>0.7</td>\n",
              "      <td>-6599.9780</td>\n",
              "    </tr>\n",
              "  </tbody>\n",
              "</table>\n",
              "</div>"
            ],
            "text/plain": [
              "              City    Category Sub-Category  ... Quantity  Discount     Profit\n",
              "463        Phoenix   Furniture       Tables  ...        6       0.5  -814.4832\n",
              "4128     Charlotte  Technology     Machines  ...        3       0.5  -944.9946\n",
              "8993      Columbia   Furniture       Tables  ...        7       0.4  -968.8833\n",
              "5320     Knoxville   Furniture       Tables  ...        7       0.4 -1002.7836\n",
              "165    San Antonio  Technology     Machines  ...        8       0.4 -1359.9920\n",
              "27    Philadelphia   Furniture    Bookcases  ...        7       0.5 -1665.0522\n",
              "2697  Jacksonville  Technology     Machines  ...        6       0.5 -1811.0784\n",
              "9639       Concord   Furniture       Tables  ...       13       0.4 -1862.3124\n",
              "683     Burlington  Technology     Machines  ...        4       0.5 -3839.9904\n",
              "7772     Lancaster  Technology     Machines  ...        5       0.7 -6599.9780\n",
              "\n",
              "[10 rows x 8 columns]"
            ]
          },
          "metadata": {
            "tags": []
          },
          "execution_count": 44
        }
      ]
    },
    {
      "cell_type": "markdown",
      "metadata": {
        "id": "Lx_YqxPA-DaZ"
      },
      "source": [
        "We can definitely see some huge losses incurred based on giving higher discounts even if the sales amount was high which is interesting as well as concerning."
      ]
    },
    {
      "cell_type": "markdown",
      "metadata": {
        "id": "pFVka2x6-DaZ"
      },
      "source": [
        "## Q 4.2: Multivariate Anomaly Detection with Isolation Forest\n",
        "\n",
        "Here you will detect anomalies using the Isolation Forest model and use the learnings from 4.1. Here you will use the [`pyod`](https://pyod.readthedocs.io/en/latest/pyod.models.html#module-pyod.models.iforest) version of [Isolation Forest](https://pyod.readthedocs.io/en/latest/pyod.models.html#module-pyod.models.iforest) which is basically a wrapper over the `scikit-learn` version but with more functionalities."
      ]
    },
    {
      "cell_type": "markdown",
      "metadata": {
        "id": "E6oP9Mla-DaZ"
      },
      "source": [
        "### Initialize and Train Model\n",
        "\n",
        "__Your Turn:__ Initialize the isolation forest model with similar hyperparameters as before and also assuming the proportion of outliers to be 1% of the total data (using the contamination setting)"
      ]
    },
    {
      "cell_type": "code",
      "metadata": {
        "colab": {
          "base_uri": "https://localhost:8080/"
        },
        "id": "y6GGQHR6-Daa",
        "outputId": "f88ae7de-4177-4029-9c34-3d3bb2d017a2"
      },
      "source": [
        "from pyod.models import iforest\n",
        "#<FILL BLANKS HERE>\n",
        "if_model = iforest.IForest(contamination = 0.01)\n",
        "#<FILL BLANKS HERE>\n",
        "if_model.fit(subset_df)"
      ],
      "execution_count": 47,
      "outputs": [
        {
          "output_type": "execute_result",
          "data": {
            "text/plain": [
              "IForest(behaviour='old', bootstrap=False, contamination=0.01,\n",
              "    max_features=1.0, max_samples='auto', n_estimators=100, n_jobs=1,\n",
              "    random_state=None, verbose=0)"
            ]
          },
          "metadata": {
            "tags": []
          },
          "execution_count": 47
        }
      ]
    },
    {
      "cell_type": "markdown",
      "metadata": {
        "id": "zCpPsZpO-Daa"
      },
      "source": [
        "### Filter and Sort Outliers\n",
        "\n",
        "__Your Turn:__ Predict outliers in our dataset using our trained model and filter out the outlier observations and sort by descending order and view the top 5 outlier values similar to 4.1"
      ]
    },
    {
      "cell_type": "code",
      "metadata": {
        "colab": {
          "base_uri": "https://localhost:8080/",
          "height": 221
        },
        "id": "obqcJL-G-Daa",
        "outputId": "e7a8adf8-69d1-4b5e-e4f5-497ea49e28a5"
      },
      "source": [
        "#<FILL BLANKS HERE>\n",
        "outlier_predictions = if_model.predict(subset_df)\n",
        "\n",
        "outliers_df = subset_df.copy(deep=True)\n",
        "outliers_df['Outlier'] = outlier_predictions\n",
        "outliers_df = outliers_df[outliers_df['Outlier'] == 1]\n",
        "\n",
        "print('Total Outliers:', len(outliers_df))\n",
        "outliers_sorted = outliers_df.sort_values(by=['Profit', 'Discount'], ascending=False)\n",
        "outliers_sorted.head(5)"
      ],
      "execution_count": 48,
      "outputs": [
        {
          "output_type": "stream",
          "text": [
            "Total Outliers: 100\n"
          ],
          "name": "stdout"
        },
        {
          "output_type": "execute_result",
          "data": {
            "text/html": [
              "<div>\n",
              "<style scoped>\n",
              "    .dataframe tbody tr th:only-of-type {\n",
              "        vertical-align: middle;\n",
              "    }\n",
              "\n",
              "    .dataframe tbody tr th {\n",
              "        vertical-align: top;\n",
              "    }\n",
              "\n",
              "    .dataframe thead th {\n",
              "        text-align: right;\n",
              "    }\n",
              "</style>\n",
              "<table border=\"1\" class=\"dataframe\">\n",
              "  <thead>\n",
              "    <tr style=\"text-align: right;\">\n",
              "      <th></th>\n",
              "      <th>Discount</th>\n",
              "      <th>Profit</th>\n",
              "      <th>Outlier</th>\n",
              "    </tr>\n",
              "  </thead>\n",
              "  <tbody>\n",
              "    <tr>\n",
              "      <th>6826</th>\n",
              "      <td>0.0</td>\n",
              "      <td>1.000000</td>\n",
              "      <td>1</td>\n",
              "    </tr>\n",
              "    <tr>\n",
              "      <th>8153</th>\n",
              "      <td>0.0</td>\n",
              "      <td>0.888000</td>\n",
              "      <td>1</td>\n",
              "    </tr>\n",
              "    <tr>\n",
              "      <th>4190</th>\n",
              "      <td>0.0</td>\n",
              "      <td>0.776000</td>\n",
              "      <td>1</td>\n",
              "    </tr>\n",
              "    <tr>\n",
              "      <th>9039</th>\n",
              "      <td>0.0</td>\n",
              "      <td>0.769759</td>\n",
              "      <td>1</td>\n",
              "    </tr>\n",
              "    <tr>\n",
              "      <th>4098</th>\n",
              "      <td>0.0</td>\n",
              "      <td>0.748699</td>\n",
              "      <td>1</td>\n",
              "    </tr>\n",
              "  </tbody>\n",
              "</table>\n",
              "</div>"
            ],
            "text/plain": [
              "      Discount    Profit  Outlier\n",
              "6826       0.0  1.000000        1\n",
              "8153       0.0  0.888000        1\n",
              "4190       0.0  0.776000        1\n",
              "9039       0.0  0.769759        1\n",
              "4098       0.0  0.748699        1"
            ]
          },
          "metadata": {
            "tags": []
          },
          "execution_count": 48
        }
      ]
    },
    {
      "cell_type": "markdown",
      "metadata": {
        "id": "r4C3bjew-Daa"
      },
      "source": [
        "### View Bottom 10 Outlier Transactions\n",
        "\n",
        "__Your turn:__ View the bottom ten transactions "
      ]
    },
    {
      "cell_type": "code",
      "metadata": {
        "colab": {
          "base_uri": "https://localhost:8080/",
          "height": 359
        },
        "id": "cM3dwUYT-Dab",
        "outputId": "0b8e2610-bf21-4f06-d695-01631b8c8186"
      },
      "source": [
        "#<FILL BLANKS HERE>\n",
        "outliers_sorted.tail(10)"
      ],
      "execution_count": 49,
      "outputs": [
        {
          "output_type": "execute_result",
          "data": {
            "text/html": [
              "<div>\n",
              "<style scoped>\n",
              "    .dataframe tbody tr th:only-of-type {\n",
              "        vertical-align: middle;\n",
              "    }\n",
              "\n",
              "    .dataframe tbody tr th {\n",
              "        vertical-align: top;\n",
              "    }\n",
              "\n",
              "    .dataframe thead th {\n",
              "        text-align: right;\n",
              "    }\n",
              "</style>\n",
              "<table border=\"1\" class=\"dataframe\">\n",
              "  <thead>\n",
              "    <tr style=\"text-align: right;\">\n",
              "      <th></th>\n",
              "      <th>Discount</th>\n",
              "      <th>Profit</th>\n",
              "      <th>Outlier</th>\n",
              "    </tr>\n",
              "  </thead>\n",
              "  <tbody>\n",
              "    <tr>\n",
              "      <th>2697</th>\n",
              "      <td>0.625</td>\n",
              "      <td>0.319261</td>\n",
              "      <td>1</td>\n",
              "    </tr>\n",
              "    <tr>\n",
              "      <th>1199</th>\n",
              "      <td>1.000</td>\n",
              "      <td>0.316603</td>\n",
              "      <td>1</td>\n",
              "    </tr>\n",
              "    <tr>\n",
              "      <th>9639</th>\n",
              "      <td>0.500</td>\n",
              "      <td>0.315845</td>\n",
              "      <td>1</td>\n",
              "    </tr>\n",
              "    <tr>\n",
              "      <th>5310</th>\n",
              "      <td>1.000</td>\n",
              "      <td>0.287481</td>\n",
              "      <td>1</td>\n",
              "    </tr>\n",
              "    <tr>\n",
              "      <th>3151</th>\n",
              "      <td>0.875</td>\n",
              "      <td>0.264000</td>\n",
              "      <td>1</td>\n",
              "    </tr>\n",
              "    <tr>\n",
              "      <th>4991</th>\n",
              "      <td>1.000</td>\n",
              "      <td>0.244700</td>\n",
              "      <td>1</td>\n",
              "    </tr>\n",
              "    <tr>\n",
              "      <th>3011</th>\n",
              "      <td>0.875</td>\n",
              "      <td>0.213334</td>\n",
              "      <td>1</td>\n",
              "    </tr>\n",
              "    <tr>\n",
              "      <th>9774</th>\n",
              "      <td>1.000</td>\n",
              "      <td>0.193206</td>\n",
              "      <td>1</td>\n",
              "    </tr>\n",
              "    <tr>\n",
              "      <th>683</th>\n",
              "      <td>0.625</td>\n",
              "      <td>0.184000</td>\n",
              "      <td>1</td>\n",
              "    </tr>\n",
              "    <tr>\n",
              "      <th>7772</th>\n",
              "      <td>0.875</td>\n",
              "      <td>0.000000</td>\n",
              "      <td>1</td>\n",
              "    </tr>\n",
              "  </tbody>\n",
              "</table>\n",
              "</div>"
            ],
            "text/plain": [
              "      Discount    Profit  Outlier\n",
              "2697     0.625  0.319261        1\n",
              "1199     1.000  0.316603        1\n",
              "9639     0.500  0.315845        1\n",
              "5310     1.000  0.287481        1\n",
              "3151     0.875  0.264000        1\n",
              "4991     1.000  0.244700        1\n",
              "3011     0.875  0.213334        1\n",
              "9774     1.000  0.193206        1\n",
              "683      0.625  0.184000        1\n",
              "7772     0.875  0.000000        1"
            ]
          },
          "metadata": {
            "tags": []
          },
          "execution_count": 49
        }
      ]
    },
    {
      "cell_type": "markdown",
      "metadata": {
        "id": "GaKuAbL_-Dab"
      },
      "source": [
        "### Q: Do you notice any differences in the results with the previous model?"
      ]
    },
    {
      "cell_type": "markdown",
      "metadata": {
        "id": "ahTMkCQQ-Dab"
      },
      "source": [
        "We do notice some transactions with 80% discount and high losses"
      ]
    },
    {
      "cell_type": "markdown",
      "metadata": {
        "id": "6Q7OHDRt-Dab"
      },
      "source": [
        "## Q 4.3: Multivariate Anomaly Detection with Auto-encoders\n",
        "\n",
        "Here you will detect anomalies using the Auto-encoder model and use the learnings from 4.1. Here you will use the [Auto-encoder](https://pyod.readthedocs.io/en/latest/pyod.models.html#module-pyod.models.auto_encoder) model from `pyod` which is a deep learning model often used for learning useful data representations in an unsupervised fashion without any labeled data. \n",
        "\n",
        "![](outlier_ae.png)\n",
        "\n",
        "Similar to PCA, AE could be used to detect outlier objects in the data by calculating the reconstruction errors"
      ]
    },
    {
      "cell_type": "markdown",
      "metadata": {
        "id": "-5HVMPc1-Dac"
      },
      "source": [
        "### Initialize Model\n",
        "\n",
        "Here we initiaze an auto-encoder network with a few hidden layers so that we could train it for a 100 epochs"
      ]
    },
    {
      "cell_type": "code",
      "metadata": {
        "id": "OnowjcD6-Dac"
      },
      "source": [
        "from pyod.models import auto_encoder\n",
        "\n",
        "ae_model = auto_encoder.AutoEncoder(hidden_neurons=[2, 32, 32, 2], \n",
        "                                    hidden_activation='relu',\n",
        "                                    output_activation='sigmoid',\n",
        "                                    epochs=100,\n",
        "                                    batch_size=32,\n",
        "                                    contamination=0.01)"
      ],
      "execution_count": 50,
      "outputs": []
    },
    {
      "cell_type": "markdown",
      "metadata": {
        "id": "8EgKhxfY-Dac"
      },
      "source": [
        "### Train Model\n",
        "\n",
        "__Your turn:__ Train the model by calling the `fit()` function on the right data"
      ]
    },
    {
      "cell_type": "code",
      "metadata": {
        "colab": {
          "base_uri": "https://localhost:8080/"
        },
        "id": "-w0MsIKj-Dac",
        "outputId": "69217d8c-1ba8-47b8-af45-a5eb0e1c48f6"
      },
      "source": [
        "#<FILL BLANKS HERE>\n",
        "ae_model.fit(subset_df)"
      ],
      "execution_count": 52,
      "outputs": [
        {
          "output_type": "stream",
          "text": [
            "Model: \"sequential\"\n",
            "_________________________________________________________________\n",
            "Layer (type)                 Output Shape              Param #   \n",
            "=================================================================\n",
            "dense (Dense)                (None, 2)                 6         \n",
            "_________________________________________________________________\n",
            "dropout (Dropout)            (None, 2)                 0         \n",
            "_________________________________________________________________\n",
            "dense_1 (Dense)              (None, 2)                 6         \n",
            "_________________________________________________________________\n",
            "dropout_1 (Dropout)          (None, 2)                 0         \n",
            "_________________________________________________________________\n",
            "dense_2 (Dense)              (None, 2)                 6         \n",
            "_________________________________________________________________\n",
            "dropout_2 (Dropout)          (None, 2)                 0         \n",
            "_________________________________________________________________\n",
            "dense_3 (Dense)              (None, 32)                96        \n",
            "_________________________________________________________________\n",
            "dropout_3 (Dropout)          (None, 32)                0         \n",
            "_________________________________________________________________\n",
            "dense_4 (Dense)              (None, 32)                1056      \n",
            "_________________________________________________________________\n",
            "dropout_4 (Dropout)          (None, 32)                0         \n",
            "_________________________________________________________________\n",
            "dense_5 (Dense)              (None, 2)                 66        \n",
            "_________________________________________________________________\n",
            "dropout_5 (Dropout)          (None, 2)                 0         \n",
            "_________________________________________________________________\n",
            "dense_6 (Dense)              (None, 2)                 6         \n",
            "=================================================================\n",
            "Total params: 1,242\n",
            "Trainable params: 1,242\n",
            "Non-trainable params: 0\n",
            "_________________________________________________________________\n",
            "None\n",
            "Epoch 1/100\n",
            "282/282 [==============================] - 2s 3ms/step - loss: 1.5946 - val_loss: 1.3800\n",
            "Epoch 2/100\n",
            "282/282 [==============================] - 0s 2ms/step - loss: 1.2246 - val_loss: 1.3125\n",
            "Epoch 3/100\n",
            "282/282 [==============================] - 1s 2ms/step - loss: 1.3303 - val_loss: 1.2675\n",
            "Epoch 4/100\n",
            "282/282 [==============================] - 1s 2ms/step - loss: 1.3144 - val_loss: 1.2352\n",
            "Epoch 5/100\n",
            "282/282 [==============================] - 1s 2ms/step - loss: 0.9014 - val_loss: 1.2114\n",
            "Epoch 6/100\n",
            "282/282 [==============================] - 1s 2ms/step - loss: 0.9861 - val_loss: 1.1940\n",
            "Epoch 7/100\n",
            "282/282 [==============================] - 0s 2ms/step - loss: 1.0688 - val_loss: 1.1810\n",
            "Epoch 8/100\n",
            "282/282 [==============================] - 0s 2ms/step - loss: 0.9410 - val_loss: 1.1708\n",
            "Epoch 9/100\n",
            "282/282 [==============================] - 1s 2ms/step - loss: 1.1020 - val_loss: 1.1629\n",
            "Epoch 10/100\n",
            "282/282 [==============================] - 0s 2ms/step - loss: 0.9292 - val_loss: 1.1564\n",
            "Epoch 11/100\n",
            "282/282 [==============================] - 0s 2ms/step - loss: 1.1271 - val_loss: 1.1515\n",
            "Epoch 12/100\n",
            "282/282 [==============================] - 1s 2ms/step - loss: 1.0856 - val_loss: 1.1473\n",
            "Epoch 13/100\n",
            "282/282 [==============================] - 1s 2ms/step - loss: 1.0680 - val_loss: 1.1440\n",
            "Epoch 14/100\n",
            "282/282 [==============================] - 1s 2ms/step - loss: 0.9947 - val_loss: 1.1413\n",
            "Epoch 15/100\n",
            "282/282 [==============================] - 0s 2ms/step - loss: 0.8866 - val_loss: 1.1390\n",
            "Epoch 16/100\n",
            "282/282 [==============================] - 0s 2ms/step - loss: 0.8934 - val_loss: 1.1371\n",
            "Epoch 17/100\n",
            "282/282 [==============================] - 0s 2ms/step - loss: 0.9187 - val_loss: 1.1355\n",
            "Epoch 18/100\n",
            "282/282 [==============================] - 1s 2ms/step - loss: 1.2202 - val_loss: 1.1346\n",
            "Epoch 19/100\n",
            "282/282 [==============================] - 0s 2ms/step - loss: 1.1550 - val_loss: 1.1337\n",
            "Epoch 20/100\n",
            "282/282 [==============================] - 1s 2ms/step - loss: 0.9513 - val_loss: 1.1329\n",
            "Epoch 21/100\n",
            "282/282 [==============================] - 1s 2ms/step - loss: 1.0461 - val_loss: 1.1322\n",
            "Epoch 22/100\n",
            "282/282 [==============================] - 1s 2ms/step - loss: 0.8930 - val_loss: 1.1315\n",
            "Epoch 23/100\n",
            "282/282 [==============================] - 1s 2ms/step - loss: 1.1401 - val_loss: 1.1310\n",
            "Epoch 24/100\n",
            "282/282 [==============================] - 1s 2ms/step - loss: 0.8357 - val_loss: 1.1305\n",
            "Epoch 25/100\n",
            "282/282 [==============================] - 1s 2ms/step - loss: 0.9495 - val_loss: 1.1301\n",
            "Epoch 26/100\n",
            "282/282 [==============================] - 0s 2ms/step - loss: 1.3447 - val_loss: 1.1298\n",
            "Epoch 27/100\n",
            "282/282 [==============================] - 1s 2ms/step - loss: 1.1204 - val_loss: 1.1295\n",
            "Epoch 28/100\n",
            "282/282 [==============================] - 0s 2ms/step - loss: 1.0585 - val_loss: 1.1292\n",
            "Epoch 29/100\n",
            "282/282 [==============================] - 1s 2ms/step - loss: 1.0273 - val_loss: 1.1290\n",
            "Epoch 30/100\n",
            "282/282 [==============================] - 1s 2ms/step - loss: 0.8973 - val_loss: 1.1288\n",
            "Epoch 31/100\n",
            "282/282 [==============================] - 1s 2ms/step - loss: 0.9951 - val_loss: 1.1286\n",
            "Epoch 32/100\n",
            "282/282 [==============================] - 1s 2ms/step - loss: 0.9378 - val_loss: 1.1285\n",
            "Epoch 33/100\n",
            "282/282 [==============================] - 1s 2ms/step - loss: 0.9090 - val_loss: 1.1284\n",
            "Epoch 34/100\n",
            "282/282 [==============================] - 1s 2ms/step - loss: 0.9402 - val_loss: 1.1283\n",
            "Epoch 35/100\n",
            "282/282 [==============================] - 1s 2ms/step - loss: 1.0620 - val_loss: 1.1283\n",
            "Epoch 36/100\n",
            "282/282 [==============================] - 0s 2ms/step - loss: 0.9759 - val_loss: 1.1282\n",
            "Epoch 37/100\n",
            "282/282 [==============================] - 1s 2ms/step - loss: 0.8959 - val_loss: 1.1281\n",
            "Epoch 38/100\n",
            "282/282 [==============================] - 0s 2ms/step - loss: 1.0454 - val_loss: 1.1281\n",
            "Epoch 39/100\n",
            "282/282 [==============================] - 1s 2ms/step - loss: 0.8903 - val_loss: 1.1280\n",
            "Epoch 40/100\n",
            "282/282 [==============================] - 0s 2ms/step - loss: 0.9944 - val_loss: 1.1280\n",
            "Epoch 41/100\n",
            "282/282 [==============================] - 1s 2ms/step - loss: 1.0793 - val_loss: 1.1280\n",
            "Epoch 42/100\n",
            "282/282 [==============================] - 1s 2ms/step - loss: 1.0212 - val_loss: 1.1279\n",
            "Epoch 43/100\n",
            "282/282 [==============================] - 1s 2ms/step - loss: 1.2566 - val_loss: 1.1279\n",
            "Epoch 44/100\n",
            "282/282 [==============================] - 0s 2ms/step - loss: 1.1162 - val_loss: 1.1279\n",
            "Epoch 45/100\n",
            "282/282 [==============================] - 1s 2ms/step - loss: 1.1024 - val_loss: 1.1279\n",
            "Epoch 46/100\n",
            "282/282 [==============================] - 1s 2ms/step - loss: 0.9163 - val_loss: 1.1279\n",
            "Epoch 47/100\n",
            "282/282 [==============================] - 1s 2ms/step - loss: 0.9008 - val_loss: 1.1279\n",
            "Epoch 48/100\n",
            "282/282 [==============================] - 1s 2ms/step - loss: 1.1299 - val_loss: 1.1279\n",
            "Epoch 49/100\n",
            "282/282 [==============================] - 1s 2ms/step - loss: 1.0557 - val_loss: 1.1278\n",
            "Epoch 50/100\n",
            "282/282 [==============================] - 1s 2ms/step - loss: 1.0551 - val_loss: 1.1278\n",
            "Epoch 51/100\n",
            "282/282 [==============================] - 1s 2ms/step - loss: 0.8867 - val_loss: 1.1278\n",
            "Epoch 52/100\n",
            "282/282 [==============================] - 1s 2ms/step - loss: 0.9977 - val_loss: 1.1278\n",
            "Epoch 53/100\n",
            "282/282 [==============================] - 1s 2ms/step - loss: 1.1985 - val_loss: 1.1278\n",
            "Epoch 54/100\n",
            "282/282 [==============================] - 1s 2ms/step - loss: 0.9008 - val_loss: 1.1278\n",
            "Epoch 55/100\n",
            "282/282 [==============================] - 1s 2ms/step - loss: 0.8984 - val_loss: 1.1278\n",
            "Epoch 56/100\n",
            "282/282 [==============================] - 1s 2ms/step - loss: 0.9332 - val_loss: 1.1278\n",
            "Epoch 57/100\n",
            "282/282 [==============================] - 1s 2ms/step - loss: 0.8887 - val_loss: 1.1278\n",
            "Epoch 58/100\n",
            "282/282 [==============================] - 1s 2ms/step - loss: 1.0187 - val_loss: 1.1278\n",
            "Epoch 59/100\n",
            "282/282 [==============================] - 1s 2ms/step - loss: 0.9685 - val_loss: 1.1278\n",
            "Epoch 60/100\n",
            "282/282 [==============================] - 1s 2ms/step - loss: 0.8430 - val_loss: 1.1278\n",
            "Epoch 61/100\n",
            "282/282 [==============================] - 1s 2ms/step - loss: 0.9668 - val_loss: 1.1278\n",
            "Epoch 62/100\n",
            "282/282 [==============================] - 1s 2ms/step - loss: 0.8991 - val_loss: 1.1278\n",
            "Epoch 63/100\n",
            "282/282 [==============================] - 1s 2ms/step - loss: 0.9145 - val_loss: 1.1278\n",
            "Epoch 64/100\n",
            "282/282 [==============================] - 1s 2ms/step - loss: 1.0772 - val_loss: 1.1278\n",
            "Epoch 65/100\n",
            "282/282 [==============================] - 1s 2ms/step - loss: 1.0443 - val_loss: 1.1278\n",
            "Epoch 66/100\n",
            "282/282 [==============================] - 1s 2ms/step - loss: 0.9452 - val_loss: 1.1278\n",
            "Epoch 67/100\n",
            "282/282 [==============================] - 1s 2ms/step - loss: 0.9340 - val_loss: 1.1278\n",
            "Epoch 68/100\n",
            "282/282 [==============================] - 1s 2ms/step - loss: 1.0790 - val_loss: 1.1279\n",
            "Epoch 69/100\n",
            "282/282 [==============================] - 1s 2ms/step - loss: 0.8859 - val_loss: 1.1279\n",
            "Epoch 70/100\n",
            "282/282 [==============================] - 1s 2ms/step - loss: 1.1155 - val_loss: 1.1279\n",
            "Epoch 71/100\n",
            "282/282 [==============================] - 1s 2ms/step - loss: 1.0771 - val_loss: 1.1279\n",
            "Epoch 72/100\n",
            "282/282 [==============================] - 1s 2ms/step - loss: 0.8817 - val_loss: 1.1279\n",
            "Epoch 73/100\n",
            "282/282 [==============================] - 1s 2ms/step - loss: 1.1336 - val_loss: 1.1279\n",
            "Epoch 74/100\n",
            "282/282 [==============================] - 1s 2ms/step - loss: 0.8320 - val_loss: 1.1279\n",
            "Epoch 75/100\n",
            "282/282 [==============================] - 1s 2ms/step - loss: 0.9531 - val_loss: 1.1279\n",
            "Epoch 76/100\n",
            "282/282 [==============================] - 1s 2ms/step - loss: 0.9592 - val_loss: 1.1279\n",
            "Epoch 77/100\n",
            "282/282 [==============================] - 1s 2ms/step - loss: 0.8897 - val_loss: 1.1279\n",
            "Epoch 78/100\n",
            "282/282 [==============================] - 1s 2ms/step - loss: 1.0481 - val_loss: 1.1279\n",
            "Epoch 79/100\n",
            "282/282 [==============================] - 1s 2ms/step - loss: 1.0798 - val_loss: 1.1279\n",
            "Epoch 80/100\n",
            "282/282 [==============================] - 1s 2ms/step - loss: 0.8145 - val_loss: 1.1279\n",
            "Epoch 81/100\n",
            "282/282 [==============================] - 1s 2ms/step - loss: 0.8077 - val_loss: 1.1279\n",
            "Epoch 82/100\n",
            "282/282 [==============================] - 1s 2ms/step - loss: 0.8303 - val_loss: 1.1279\n",
            "Epoch 83/100\n",
            "282/282 [==============================] - 1s 2ms/step - loss: 1.1707 - val_loss: 1.1279\n",
            "Epoch 84/100\n",
            "282/282 [==============================] - 1s 2ms/step - loss: 1.0173 - val_loss: 1.1279\n",
            "Epoch 85/100\n",
            "282/282 [==============================] - 1s 2ms/step - loss: 0.8553 - val_loss: 1.1279\n",
            "Epoch 86/100\n",
            "282/282 [==============================] - 1s 2ms/step - loss: 0.8286 - val_loss: 1.1279\n",
            "Epoch 87/100\n",
            "282/282 [==============================] - 1s 2ms/step - loss: 0.9962 - val_loss: 1.1279\n",
            "Epoch 88/100\n",
            "282/282 [==============================] - 1s 2ms/step - loss: 0.8904 - val_loss: 1.1279\n",
            "Epoch 89/100\n",
            "282/282 [==============================] - 0s 2ms/step - loss: 1.1475 - val_loss: 1.1279\n",
            "Epoch 90/100\n",
            "282/282 [==============================] - 1s 2ms/step - loss: 0.8691 - val_loss: 1.1279\n",
            "Epoch 91/100\n",
            "282/282 [==============================] - 1s 2ms/step - loss: 0.9195 - val_loss: 1.1279\n",
            "Epoch 92/100\n",
            "282/282 [==============================] - 1s 2ms/step - loss: 0.9600 - val_loss: 1.1279\n",
            "Epoch 93/100\n",
            "282/282 [==============================] - 1s 2ms/step - loss: 1.0049 - val_loss: 1.1279\n",
            "Epoch 94/100\n",
            "282/282 [==============================] - 1s 2ms/step - loss: 0.8894 - val_loss: 1.1279\n",
            "Epoch 95/100\n",
            "282/282 [==============================] - 1s 2ms/step - loss: 0.9974 - val_loss: 1.1279\n",
            "Epoch 96/100\n",
            "282/282 [==============================] - 1s 2ms/step - loss: 0.9784 - val_loss: 1.1279\n",
            "Epoch 97/100\n",
            "282/282 [==============================] - 1s 2ms/step - loss: 0.8815 - val_loss: 1.1279\n",
            "Epoch 98/100\n",
            "282/282 [==============================] - 1s 2ms/step - loss: 0.9366 - val_loss: 1.1279\n",
            "Epoch 99/100\n",
            "282/282 [==============================] - 1s 2ms/step - loss: 1.1688 - val_loss: 1.1279\n",
            "Epoch 100/100\n",
            "282/282 [==============================] - 1s 2ms/step - loss: 0.8923 - val_loss: 1.1280\n"
          ],
          "name": "stdout"
        },
        {
          "output_type": "execute_result",
          "data": {
            "text/plain": [
              "AutoEncoder(batch_size=32, contamination=0.01, dropout_rate=0.2, epochs=100,\n",
              "      hidden_activation='relu', hidden_neurons=[2, 32, 32, 2],\n",
              "      l2_regularizer=0.1,\n",
              "      loss=<function mean_squared_error at 0x7fea8c135200>,\n",
              "      optimizer='adam', output_activation='sigmoid', preprocessing=True,\n",
              "      random_state=None, validation_size=0.1, verbose=1)"
            ]
          },
          "metadata": {
            "tags": []
          },
          "execution_count": 52
        }
      ]
    },
    {
      "cell_type": "markdown",
      "metadata": {
        "id": "gkLo5q1A-Dac"
      },
      "source": [
        "### Filter and Sort Outliers\n",
        "\n",
        "__Your Turn:__ Predict outliers in our dataset using our trained model and filter out the outlier observations and sort by descending order and view the top 5 outlier values similar to 4.1"
      ]
    },
    {
      "cell_type": "code",
      "metadata": {
        "colab": {
          "base_uri": "https://localhost:8080/",
          "height": 221
        },
        "id": "sZSLQUVh-Dad",
        "outputId": "05c497bb-0bc6-40e0-8f32-9e4abe1f518b"
      },
      "source": [
        "#<FILL BLANKS HERE>\n",
        "ol_predictions = ae_model.labels_\n",
        "\n",
        "outliers_df = subset_df.copy(deep=True)\n",
        "outliers_df['Outlier'] = ol_predictions\n",
        "outliers_df = outliers_df[outliers_df['Outlier'] == 1]\n",
        "\n",
        "print('Total Outliers:', len(outliers_df))\n",
        "outliers_sorted = outliers_df.sort_values(by=['Profit', 'Discount'], ascending=False)\n",
        "outliers_sorted.head(5)\n"
      ],
      "execution_count": 58,
      "outputs": [
        {
          "output_type": "stream",
          "text": [
            "Total Outliers: 100\n"
          ],
          "name": "stdout"
        },
        {
          "output_type": "execute_result",
          "data": {
            "text/html": [
              "<div>\n",
              "<style scoped>\n",
              "    .dataframe tbody tr th:only-of-type {\n",
              "        vertical-align: middle;\n",
              "    }\n",
              "\n",
              "    .dataframe tbody tr th {\n",
              "        vertical-align: top;\n",
              "    }\n",
              "\n",
              "    .dataframe thead th {\n",
              "        text-align: right;\n",
              "    }\n",
              "</style>\n",
              "<table border=\"1\" class=\"dataframe\">\n",
              "  <thead>\n",
              "    <tr style=\"text-align: right;\">\n",
              "      <th></th>\n",
              "      <th>Discount</th>\n",
              "      <th>Profit</th>\n",
              "      <th>Outlier</th>\n",
              "    </tr>\n",
              "  </thead>\n",
              "  <tbody>\n",
              "    <tr>\n",
              "      <th>6826</th>\n",
              "      <td>0.0</td>\n",
              "      <td>1.000000</td>\n",
              "      <td>1</td>\n",
              "    </tr>\n",
              "    <tr>\n",
              "      <th>8153</th>\n",
              "      <td>0.0</td>\n",
              "      <td>0.888000</td>\n",
              "      <td>1</td>\n",
              "    </tr>\n",
              "    <tr>\n",
              "      <th>4190</th>\n",
              "      <td>0.0</td>\n",
              "      <td>0.776000</td>\n",
              "      <td>1</td>\n",
              "    </tr>\n",
              "    <tr>\n",
              "      <th>9039</th>\n",
              "      <td>0.0</td>\n",
              "      <td>0.769759</td>\n",
              "      <td>1</td>\n",
              "    </tr>\n",
              "    <tr>\n",
              "      <th>4098</th>\n",
              "      <td>0.0</td>\n",
              "      <td>0.748699</td>\n",
              "      <td>1</td>\n",
              "    </tr>\n",
              "  </tbody>\n",
              "</table>\n",
              "</div>"
            ],
            "text/plain": [
              "      Discount    Profit  Outlier\n",
              "6826       0.0  1.000000        1\n",
              "8153       0.0  0.888000        1\n",
              "4190       0.0  0.776000        1\n",
              "9039       0.0  0.769759        1\n",
              "4098       0.0  0.748699        1"
            ]
          },
          "metadata": {
            "tags": []
          },
          "execution_count": 58
        }
      ]
    },
    {
      "cell_type": "markdown",
      "metadata": {
        "id": "bh5bx69f-Dad"
      },
      "source": [
        "### View Bottom 10 Outlier Transactions\n",
        "\n",
        "__Your turn:__ View the bottom ten transactions "
      ]
    },
    {
      "cell_type": "code",
      "metadata": {
        "colab": {
          "base_uri": "https://localhost:8080/",
          "height": 359
        },
        "id": "p9i1Zv5b-Dad",
        "outputId": "0914d128-b24a-4e22-86d1-f3f3e730e57e"
      },
      "source": [
        "#<FILL BLANKS HERE>\n",
        "outliers_sorted.tail(10)"
      ],
      "execution_count": 59,
      "outputs": [
        {
          "output_type": "execute_result",
          "data": {
            "text/html": [
              "<div>\n",
              "<style scoped>\n",
              "    .dataframe tbody tr th:only-of-type {\n",
              "        vertical-align: middle;\n",
              "    }\n",
              "\n",
              "    .dataframe tbody tr th {\n",
              "        vertical-align: top;\n",
              "    }\n",
              "\n",
              "    .dataframe thead th {\n",
              "        text-align: right;\n",
              "    }\n",
              "</style>\n",
              "<table border=\"1\" class=\"dataframe\">\n",
              "  <thead>\n",
              "    <tr style=\"text-align: right;\">\n",
              "      <th></th>\n",
              "      <th>Discount</th>\n",
              "      <th>Profit</th>\n",
              "      <th>Outlier</th>\n",
              "    </tr>\n",
              "  </thead>\n",
              "  <tbody>\n",
              "    <tr>\n",
              "      <th>2697</th>\n",
              "      <td>0.625</td>\n",
              "      <td>0.319261</td>\n",
              "      <td>1</td>\n",
              "    </tr>\n",
              "    <tr>\n",
              "      <th>1199</th>\n",
              "      <td>1.000</td>\n",
              "      <td>0.316603</td>\n",
              "      <td>1</td>\n",
              "    </tr>\n",
              "    <tr>\n",
              "      <th>9639</th>\n",
              "      <td>0.500</td>\n",
              "      <td>0.315845</td>\n",
              "      <td>1</td>\n",
              "    </tr>\n",
              "    <tr>\n",
              "      <th>5310</th>\n",
              "      <td>1.000</td>\n",
              "      <td>0.287481</td>\n",
              "      <td>1</td>\n",
              "    </tr>\n",
              "    <tr>\n",
              "      <th>3151</th>\n",
              "      <td>0.875</td>\n",
              "      <td>0.264000</td>\n",
              "      <td>1</td>\n",
              "    </tr>\n",
              "    <tr>\n",
              "      <th>4991</th>\n",
              "      <td>1.000</td>\n",
              "      <td>0.244700</td>\n",
              "      <td>1</td>\n",
              "    </tr>\n",
              "    <tr>\n",
              "      <th>3011</th>\n",
              "      <td>0.875</td>\n",
              "      <td>0.213334</td>\n",
              "      <td>1</td>\n",
              "    </tr>\n",
              "    <tr>\n",
              "      <th>9774</th>\n",
              "      <td>1.000</td>\n",
              "      <td>0.193206</td>\n",
              "      <td>1</td>\n",
              "    </tr>\n",
              "    <tr>\n",
              "      <th>683</th>\n",
              "      <td>0.625</td>\n",
              "      <td>0.184000</td>\n",
              "      <td>1</td>\n",
              "    </tr>\n",
              "    <tr>\n",
              "      <th>7772</th>\n",
              "      <td>0.875</td>\n",
              "      <td>0.000000</td>\n",
              "      <td>1</td>\n",
              "    </tr>\n",
              "  </tbody>\n",
              "</table>\n",
              "</div>"
            ],
            "text/plain": [
              "      Discount    Profit  Outlier\n",
              "2697     0.625  0.319261        1\n",
              "1199     1.000  0.316603        1\n",
              "9639     0.500  0.315845        1\n",
              "5310     1.000  0.287481        1\n",
              "3151     0.875  0.264000        1\n",
              "4991     1.000  0.244700        1\n",
              "3011     0.875  0.213334        1\n",
              "9774     1.000  0.193206        1\n",
              "683      0.625  0.184000        1\n",
              "7772     0.875  0.000000        1"
            ]
          },
          "metadata": {
            "tags": []
          },
          "execution_count": 59
        }
      ]
    },
    {
      "cell_type": "markdown",
      "metadata": {
        "id": "MKYcdFfU-Dad"
      },
      "source": [
        "## 4.4: Visualize Anomalies and Compare Anomaly Detection Models\n",
        "\n",
        "Here we will look at the visual plots of anomalies as detected by the above three models"
      ]
    },
    {
      "cell_type": "code",
      "metadata": {
        "id": "rqQaMH6H-Dae"
      },
      "source": [
        "def visualize_anomalies(model, xx, yy, data_df, ax_obj, subplot_title):\n",
        "    \n",
        "    # predict raw anomaly score\n",
        "    scores_pred = model.decision_function(data_df) * -1\n",
        "    # prediction of a datapoint category outlier or inlier\n",
        "    y_pred = model.predict(data_df)\n",
        "    n_inliers = len(y_pred) - np.count_nonzero(y_pred)\n",
        "    n_outliers = np.count_nonzero(y_pred == 1)\n",
        "\n",
        "\n",
        "    out_df = data_df.copy(deep=True)\n",
        "    out_df['Outlier'] = y_pred.tolist()\n",
        "    # discount - inlier feature 1,  profit - inlier feature 2\n",
        "    inliers_discount = out_df[out_df['Outlier'] == 0]['Discount'].values\n",
        "    inliers_profit = out_df[out_df['Outlier'] == 0]['Profit'].values\n",
        "    # discount - outlier feature 1, profit - outlier feature 2\n",
        "    outliers_discount = out_df[out_df['Outlier'] == 1]['Discount'].values\n",
        "    outliers_profit = out_df[out_df['Outlier'] == 1]['Profit'].values\n",
        "\n",
        "    # Use threshold value to consider a datapoint inlier or outlier\n",
        "    # threshold = stats.scoreatpercentile(scores_pred,100 * outliers_fraction)\n",
        "    threshold = np.percentile(scores_pred, 100 * outliers_fraction)   \n",
        "    # decision function calculates the raw anomaly score for every point\n",
        "    Z = model.decision_function(np.c_[xx.ravel(), yy.ravel()]) * -1\n",
        "    Z = Z.reshape(xx.shape)\n",
        "    # fill blue map colormap from minimum anomaly score to threshold value\n",
        "    ax_obj.contourf(xx, yy, Z, levels=np.linspace(Z.min(), threshold, 7),cmap=plt.cm.Blues_r)\n",
        "    # draw red contour line where anomaly score is equal to thresold\n",
        "    a = ax_obj.contour(xx, yy, Z, levels=[threshold],linewidths=2, colors='red')\n",
        "    # fill orange contour lines where range of anomaly score is from threshold to maximum anomaly score\n",
        "    ax_obj.contourf(xx, yy, Z, levels=[threshold, Z.max()],colors='orange')\n",
        "    b = ax_obj.scatter(inliers_discount, inliers_profit, c='white',s=20, edgecolor='k')\n",
        "    c = ax_obj.scatter(outliers_discount, outliers_profit, c='black',s=20, edgecolor='k')\n",
        "\n",
        "\n",
        "    ax_obj.legend([a.collections[0], b,c], ['learned decision function', 'inliers','outliers'],\n",
        "               prop=matplotlib.font_manager.FontProperties(size=10),loc='upper right')\n",
        "\n",
        "    ax_obj.set_xlim((0, 1))\n",
        "    ax_obj.set_ylim((0, 1))\n",
        "    ax_obj.set_xlabel('Discount')\n",
        "    ax_obj.set_ylabel('Sales')\n",
        "    ax_obj.set_title(subplot_title)"
      ],
      "execution_count": 61,
      "outputs": []
    },
    {
      "cell_type": "code",
      "metadata": {
        "colab": {
          "base_uri": "https://localhost:8080/",
          "height": 403
        },
        "id": "O_5HbA1e-Dae",
        "outputId": "839e6d6c-1723-4733-e572-2ff5920d3e43"
      },
      "source": [
        "outliers_fraction = 0.01\n",
        "xx , yy = np.meshgrid(np.linspace(0, 1, 100), np.linspace(0, 1, 100))\n",
        "fig, ax = plt.subplots(1, 3, figsize=(20, 6))\n",
        "\n",
        "ax_objs = [ax[0], ax[1], ax[2]]\n",
        "models = [cblof_model, if_model, ae_model]\n",
        "plot_titles = ['Cluster-based Local Outlier Factor (CBLOF)',\n",
        "               'Isolation Forest',\n",
        "               'Auto-Encoder']\n",
        "\n",
        "for ax_obj, model, plot_title in zip(ax_objs, models, plot_titles):\n",
        "    visualize_anomalies(model=model,\n",
        "                        xx=xx, yy=yy,\n",
        "                        data_df=subset_df,\n",
        "                        ax_obj=ax_obj,\n",
        "                        subplot_title=plot_title)\n",
        "plt.axis('tight');\n"
      ],
      "execution_count": 62,
      "outputs": [
        {
          "output_type": "display_data",
          "data": {
            "image/png": "[encoded data removed]",
            "text/plain": [
              "<Figure size 1440x432 with 3 Axes>"
            ]
          },
          "metadata": {
            "tags": [],
            "needs_background": "light"
          }
        }
      ]
    }
  ]
}